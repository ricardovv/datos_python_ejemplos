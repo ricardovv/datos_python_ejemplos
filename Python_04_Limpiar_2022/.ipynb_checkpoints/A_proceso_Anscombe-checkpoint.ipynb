{
 "cells": [
  {
   "cell_type": "markdown",
   "metadata": {},
   "source": [
    "# A- CUARTETO DE ANSCOMBE - SIMPLE\n",
    "#### Ejercicio simple para reconocer el proceso de trabajo, desde importar los datos, reconocer algunas de sus características hasta generar visualizaciones simples. "
   ]
  },
  {
   "cell_type": "markdown",
   "metadata": {},
   "source": [
    "# 1- IMPORTAR LIBRERIAS Y CARGAR DATOS"
   ]
  },
  {
   "cell_type": "code",
   "execution_count": null,
   "metadata": {},
   "outputs": [],
   "source": [
    "# importar librerias. Pandas es una libreria de Python para trabajar con datos. \n",
    "# se lee \"importar la libreria PANDAS con el nombre pd\".\n",
    "import pandas as pd"
   ]
  },
  {
   "cell_type": "code",
   "execution_count": null,
   "metadata": {},
   "outputs": [],
   "source": [
    "# cargar datos: pd.read_csv para leer archivos .csv\n",
    "# hay comandos para leer json, excel, entre otros.   \n",
    "df = pd.read_csv('A_datos/cuarteto_anscombe.csv') # la ruta y nombre del archivo.\n",
    "\n",
    "# mostrar el dataframe donde se guardaron los datos.\n",
    "df "
   ]
  },
  {
   "cell_type": "markdown",
   "metadata": {},
   "source": [
    "## 2- Explorar"
   ]
  },
  {
   "cell_type": "code",
   "execution_count": null,
   "metadata": {},
   "outputs": [],
   "source": [
    "# muestra la forma general del dataframe: cantidad de filas y columnas.\n",
    "df.shape"
   ]
  },
  {
   "cell_type": "code",
   "execution_count": null,
   "metadata": {},
   "outputs": [],
   "source": [
    "# muestra informacion general de los datos: \n",
    "# tipo de datos, filas, coumnas...\n",
    "df.info()"
   ]
  },
  {
   "cell_type": "code",
   "execution_count": null,
   "metadata": {},
   "outputs": [],
   "source": [
    "# muestra un resumen estadistico de las columnas: \n",
    "# promedio, desviacion estandar, valores minimos y maximos.\n",
    "df.describe()"
   ]
  },
  {
   "cell_type": "code",
   "execution_count": null,
   "metadata": {},
   "outputs": [],
   "source": [
    "# muestra primeras 5 filas por defecto.\n",
    "df.head() # df.head(2) probar cambiando valor entre parentesis."
   ]
  },
  {
   "cell_type": "code",
   "execution_count": null,
   "metadata": {},
   "outputs": [],
   "source": [
    "# muestra ultimas 5 filas por defecto. \n",
    "df.tail(2) # df.tail(2) probar cambiando valor entre parentesis. "
   ]
  },
  {
   "cell_type": "code",
   "execution_count": null,
   "metadata": {},
   "outputs": [],
   "source": [
    "# selecciona una columna y muestra sus valores.\n",
    "# nombre de columna entre parentesis y probar con otro nombre de columna.\n",
    "df['I_x']"
   ]
  },
  {
   "cell_type": "markdown",
   "metadata": {},
   "source": [
    "# 3- VISUALIZAR BARRAS\n",
    "#### Para visualizar se debe importar la ibrería de visualización, usaremos MatPlotLib que viene con python  "
   ]
  },
  {
   "cell_type": "code",
   "execution_count": null,
   "metadata": {},
   "outputs": [],
   "source": [
    "# importar libreria visualizacion.\n",
    "# se lee \"importar la libreria matplotlib.pyplot con el nombre plt\".\n",
    "import matplotlib.pyplot as plt"
   ]
  },
  {
   "cell_type": "code",
   "execution_count": null,
   "metadata": {},
   "outputs": [],
   "source": [
    "# mostrar valores de dos columnas con un grafico de barras.\n",
    "x1 = df['I_x'] # en x1 guardaremos los datos de la columna'I_x'.\n",
    "y1 = df['I_y'] # en y1 guardaremos los datos de la columna'I_y'.\n",
    "plt.bar(x=x1, height=y1) # de plt usaremos los graficos de barra."
   ]
  },
  {
   "cell_type": "code",
   "execution_count": null,
   "metadata": {},
   "outputs": [],
   "source": [
    "# crear un grafico con otros elementos.\n",
    "fig=plt.figure(figsize=(5, 2)) # tamano del grafico.\n",
    "\n",
    "plt.title(\"El Famoso Cuarteto de Anscombe\") # titulo.\n",
    "plt.xlabel(\"Este es el Eje X\") # texto eje X. \n",
    "plt.ylabel(\"Este es el Eje Y\") # texto eje Y. \n",
    "\n",
    "plt.bar(x=x1, height=y1, color='green') # grafico de barras.\n",
    "\n",
    "# guarda el grafico en la ruta selecionada.\n",
    "plt.savefig('A_datos/a_cuarteto_barra.jpg')\n",
    "\n",
    "# esta linea muestra el grafico.\n",
    "plt.show() "
   ]
  },
  {
   "cell_type": "markdown",
   "metadata": {},
   "source": [
    "# 4- VISUALIZAR SCATTERPLOT COMO ANSCOMBE\n",
    "###### En este scaterpot graficaremos todos los conjuntos como se compara en el grafico de Anscombe. \n",
    "###### Como ejercicio puede probar como mejorar la representacion: colores, titulos, etc. "
   ]
  },
  {
   "cell_type": "code",
   "execution_count": null,
   "metadata": {},
   "outputs": [],
   "source": [
    "# en este scaterpot graficaremos dos conjuntos de datos, I y II.\n",
    "x1, y1 = df['I_x'], df['I_y']\n",
    "x2, y2 = df['II_x'], df['II_y']\n",
    "x3, y3 = df['III_x'], df['III_y']\n",
    "x4, y4 = df['IV_x'], df['IV_y']\n",
    " \n",
    "fig=plt.figure(figsize=(12, 10)) # tamano del grafico.\n",
    "    \n",
    "# grafica el primer conjunto.\n",
    "plt.subplot(221) # 2 columnas, 2 filas y posicion 1.\n",
    "plt.title('Serie I')\n",
    "plt.scatter(x1, y1, s=80, color='red', marker='>')\n",
    "\n",
    "# grafica el segundo conjunto.\n",
    "plt.subplot(222) # 2 columnas, 2 filas y posicion 2.\n",
    "plt.title('Serie II')\n",
    "plt.scatter(x2, y2, s=80, color='blue', marker='o')\n",
    "\n",
    "# grafica el tercer conjunto.\n",
    "plt.subplot(223)\n",
    "plt.title('Serie III') # 2 columnas, 2 filas y posicion 3.\n",
    "plt.scatter(x3, y3, s=80, color='orange', marker='x')\n",
    "\n",
    "# grafica el cuarto conjunto.\n",
    "plt.subplot(224) # 2 columnas, 2 filas posicion 4.\n",
    "plt.title('Serie IV')\n",
    "plt.scatter(x4, y4, s=80, color='green', marker='_')\n",
    "\n",
    "plt.show()\n"
   ]
  },
  {
   "cell_type": "code",
   "execution_count": null,
   "metadata": {},
   "outputs": [],
   "source": [
    "# Puede ver mas referencias sobre creacion de graficos con matplotlib en: \n",
    "# https://www.tutorialspoint.com/matplotlib/index.htm "
   ]
  }
 ],
 "metadata": {
  "kernelspec": {
   "display_name": "Python 3",
   "language": "python",
   "name": "python3"
  },
  "language_info": {
   "codemirror_mode": {
    "name": "ipython",
    "version": 3
   },
   "file_extension": ".py",
   "mimetype": "text/x-python",
   "name": "python",
   "nbconvert_exporter": "python",
   "pygments_lexer": "ipython3",
   "version": "3.7.3"
  }
 },
 "nbformat": 4,
 "nbformat_minor": 2
}
