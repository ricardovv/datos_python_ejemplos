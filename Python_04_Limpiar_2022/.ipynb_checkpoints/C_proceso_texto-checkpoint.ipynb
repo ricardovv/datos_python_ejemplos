{
 "cells": [
  {
   "cell_type": "markdown",
   "metadata": {},
   "source": [
    "# C- TEXTO \n",
    "##### Ejercicio simple para reconocer el proceso basico cuando se cuenta con datos que son texto.\n",
    "##### En esta caso usaremos la API del proyecto www.c80.cl para consultar un articulo de la constitucion de 1980 y explorar algunas de sus caracteristicas. "
   ]
  },
  {
   "cell_type": "markdown",
   "metadata": {},
   "source": [
    "# 1- IMPORTAR LIBRERIAS Y CARGAR DATOS"
   ]
  },
  {
   "cell_type": "code",
   "execution_count": 1,
   "metadata": {},
   "outputs": [],
   "source": [
    "### importar librerias.\n",
    "import requests # para hacer consultas en internet.\n",
    "from pandas.io.json import json_normalize # para trabajar con archivos json.\n",
    "import pandas as pd"
   ]
  },
  {
   "cell_type": "code",
   "execution_count": 2,
   "metadata": {},
   "outputs": [
    {
     "data": {
      "text/html": [
       "<div>\n",
       "<style scoped>\n",
       "    .dataframe tbody tr th:only-of-type {\n",
       "        vertical-align: middle;\n",
       "    }\n",
       "\n",
       "    .dataframe tbody tr th {\n",
       "        vertical-align: top;\n",
       "    }\n",
       "\n",
       "    .dataframe thead th {\n",
       "        text-align: right;\n",
       "    }\n",
       "</style>\n",
       "<table border=\"1\" class=\"dataframe\">\n",
       "  <thead>\n",
       "    <tr style=\"text-align: right;\">\n",
       "      <th></th>\n",
       "      <th>title</th>\n",
       "      <th>contenido</th>\n",
       "    </tr>\n",
       "  </thead>\n",
       "  <tbody>\n",
       "    <tr>\n",
       "      <th>0</th>\n",
       "      <td>Artículo 21</td>\n",
       "      <td>[Todo individuo que se hallare arrestado, dete...</td>\n",
       "    </tr>\n",
       "  </tbody>\n",
       "</table>\n",
       "</div>"
      ],
      "text/plain": [
       "         title                                          contenido\n",
       "0  Artículo 21  [Todo individuo que se hallare arrestado, dete..."
      ]
     },
     "execution_count": 2,
     "metadata": {},
     "output_type": "execute_result"
    }
   ],
   "source": [
    "# se suguiere visitar la url y mirar los datos desde su fuente.\n",
    "# poner atencion a la estructura anidada que poseen.\n",
    "# pueden cambiar el ultimo numero para ver otros articulos: /xx\n",
    "# https://c80.cl/wp-json/constitucion1980/v1/articulo/21\n",
    "\n",
    "# cargar datos.\n",
    "url = 'https://c80.cl/wp-json/constitucion1980/v1/articulo/21'\n",
    "datos_api = pd.read_json(url, orient='columns')\n",
    "\n",
    "# mostrar datos_api. \n",
    "datos_api"
   ]
  },
  {
   "cell_type": "code",
   "execution_count": 3,
   "metadata": {},
   "outputs": [
    {
     "data": {
      "text/plain": [
       "0    Artículo 21\n",
       "Name: title, dtype: object"
      ]
     },
     "execution_count": 3,
     "metadata": {},
     "output_type": "execute_result"
    }
   ],
   "source": [
    "# mostrar el contenido del titulo.\n",
    "# accedemos nombrando algunos de sus elementos\n",
    "datos_api['title']"
   ]
  },
  {
   "cell_type": "code",
   "execution_count": 4,
   "metadata": {},
   "outputs": [
    {
     "data": {
      "text/plain": [
       "['Todo individuo que se hallare arrestado, detenido o preso con infracción de lo dispuesto en la Constitución o en las leyes, podrá ocurrir por sí, o por cualquiera a su nombre, a la magistratura que señale la ley, a fin de que ésta ordene se guarden las formalidades legales y adopte de inmediato las providencias que juzgue necesarias para restablecer el imperio del derecho y asegurar la debida protección del afectado.\\r\\n',\n",
       " 'Esa magistratura podrá ordenar que el individuo sea traído a su presencia y su decreto será precisamente obedecido por todos los encargados de las cárceles o lugares de detención. Instruida de los antecedentes, decretará su libertad inmediata o hará que se reparen los defectos legales o pondrá al individuo a disposición del juez competente, procediendo en todo breve y sumariamente, y corrigiendo por sí esos defectos o dando cuenta a quien corresponda para que los corrija.',\n",
       " 'El mismo recurso, y en igual forma, podrá ser deducido en favor de toda persona que ilegalmente sufra cualquiera otra privación, perturbación o amenaza en su derecho a la libertad personal y seguridad individual. La respectiva magistratura dictará en tal caso las medidas indicadas en los incisos anteriores que estime conducentes para restablecer el imperio del derecho y asegurar la debida protección del afectado.']"
      ]
     },
     "execution_count": 4,
     "metadata": {},
     "output_type": "execute_result"
    }
   ],
   "source": [
    "# mostrar algo del contenido. \n",
    "# accedamos a 'contenido' y dentro de esto a o que hay en la posicion 0\n",
    "# veremos lista de elementos separados por coma: \n",
    "# ['elemento0', 'elemento1','etc']\n",
    "datos_api['contenido'][0]"
   ]
  },
  {
   "cell_type": "code",
   "execution_count": 5,
   "metadata": {},
   "outputs": [
    {
     "data": {
      "text/html": [
       "<div>\n",
       "<style scoped>\n",
       "    .dataframe tbody tr th:only-of-type {\n",
       "        vertical-align: middle;\n",
       "    }\n",
       "\n",
       "    .dataframe tbody tr th {\n",
       "        vertical-align: top;\n",
       "    }\n",
       "\n",
       "    .dataframe thead th {\n",
       "        text-align: right;\n",
       "    }\n",
       "</style>\n",
       "<table border=\"1\" class=\"dataframe\">\n",
       "  <thead>\n",
       "    <tr style=\"text-align: right;\">\n",
       "      <th></th>\n",
       "      <th>texto</th>\n",
       "    </tr>\n",
       "  </thead>\n",
       "  <tbody>\n",
       "    <tr>\n",
       "      <th>0</th>\n",
       "      <td>Todo individuo que se hallare arrestado, deten...</td>\n",
       "    </tr>\n",
       "    <tr>\n",
       "      <th>1</th>\n",
       "      <td>Esa magistratura podrá ordenar que el individu...</td>\n",
       "    </tr>\n",
       "    <tr>\n",
       "      <th>2</th>\n",
       "      <td>El mismo recurso, y en igual forma, podrá ser ...</td>\n",
       "    </tr>\n",
       "  </tbody>\n",
       "</table>\n",
       "</div>"
      ],
      "text/plain": [
       "                                               texto\n",
       "0  Todo individuo que se hallare arrestado, deten...\n",
       "1  Esa magistratura podrá ordenar que el individu...\n",
       "2  El mismo recurso, y en igual forma, podrá ser ..."
      ]
     },
     "execution_count": 5,
     "metadata": {},
     "output_type": "execute_result"
    }
   ],
   "source": [
    "# convertir datos_api que viene como json, en un dataframe de Pandas.\n",
    "df = pd.DataFrame({'texto':datos_api.contenido[0]})\n",
    "#mostrar los elementos de contenido guardados en el dataframe df.\n",
    "df"
   ]
  },
  {
   "cell_type": "code",
   "execution_count": 6,
   "metadata": {},
   "outputs": [
    {
     "name": "stdout",
     "output_type": "stream",
     "text": [
      "Este es elemento:  0 \n",
      " Todo individuo que se hallare arrestado, detenido o preso con infracción de lo dispuesto en la Constitución o en las leyes, podrá ocurrir por sí, o por cualquiera a su nombre, a la magistratura que señale la ley, a fin de que ésta ordene se guarden las formalidades legales y adopte de inmediato las providencias que juzgue necesarias para restablecer el imperio del derecho y asegurar la debida protección del afectado.\r\n",
      "\n",
      "Este es elemento:  1 \n",
      " Esa magistratura podrá ordenar que el individuo sea traído a su presencia y su decreto será precisamente obedecido por todos los encargados de las cárceles o lugares de detención. Instruida de los antecedentes, decretará su libertad inmediata o hará que se reparen los defectos legales o pondrá al individuo a disposición del juez competente, procediendo en todo breve y sumariamente, y corrigiendo por sí esos defectos o dando cuenta a quien corresponda para que los corrija.\n",
      "Este es elemento:  2 \n",
      " El mismo recurso, y en igual forma, podrá ser deducido en favor de toda persona que ilegalmente sufra cualquiera otra privación, perturbación o amenaza en su derecho a la libertad personal y seguridad individual. La respectiva magistratura dictará en tal caso las medidas indicadas en los incisos anteriores que estime conducentes para restablecer el imperio del derecho y asegurar la debida protección del afectado.\n"
     ]
    }
   ],
   "source": [
    "# con este ciclo for, se recorren los 3 elementos que tiene.\n",
    "for i, t in df.iterrows():\n",
    "    print('Este es elemento: ', i, '\\n', t[0])\n",
    "    "
   ]
  },
  {
   "cell_type": "markdown",
   "metadata": {},
   "source": [
    "## 2- Explorar"
   ]
  },
  {
   "cell_type": "code",
   "execution_count": 7,
   "metadata": {},
   "outputs": [
    {
     "data": {
      "text/plain": [
       "(3, 1)"
      ]
     },
     "execution_count": 7,
     "metadata": {},
     "output_type": "execute_result"
    }
   ],
   "source": [
    "# cuantas filas y colunas toee el dataframe.\n",
    "df.shape"
   ]
  },
  {
   "cell_type": "code",
   "execution_count": 8,
   "metadata": {},
   "outputs": [
    {
     "data": {
      "text/html": [
       "<div>\n",
       "<style scoped>\n",
       "    .dataframe tbody tr th:only-of-type {\n",
       "        vertical-align: middle;\n",
       "    }\n",
       "\n",
       "    .dataframe tbody tr th {\n",
       "        vertical-align: top;\n",
       "    }\n",
       "\n",
       "    .dataframe thead th {\n",
       "        text-align: right;\n",
       "    }\n",
       "</style>\n",
       "<table border=\"1\" class=\"dataframe\">\n",
       "  <thead>\n",
       "    <tr style=\"text-align: right;\">\n",
       "      <th></th>\n",
       "      <th>texto</th>\n",
       "    </tr>\n",
       "  </thead>\n",
       "  <tbody>\n",
       "    <tr>\n",
       "      <th>count</th>\n",
       "      <td>3</td>\n",
       "    </tr>\n",
       "    <tr>\n",
       "      <th>unique</th>\n",
       "      <td>3</td>\n",
       "    </tr>\n",
       "    <tr>\n",
       "      <th>top</th>\n",
       "      <td>El mismo recurso, y en igual forma, podrá ser ...</td>\n",
       "    </tr>\n",
       "    <tr>\n",
       "      <th>freq</th>\n",
       "      <td>1</td>\n",
       "    </tr>\n",
       "  </tbody>\n",
       "</table>\n",
       "</div>"
      ],
      "text/plain": [
       "                                                    texto\n",
       "count                                                   3\n",
       "unique                                                  3\n",
       "top     El mismo recurso, y en igual forma, podrá ser ...\n",
       "freq                                                    1"
      ]
     },
     "execution_count": 8,
     "metadata": {},
     "output_type": "execute_result"
    }
   ],
   "source": [
    "# descripciones estadisticas. como es texto veremos solo las que se pueden obtener. \n",
    "df.describe()"
   ]
  },
  {
   "cell_type": "code",
   "execution_count": 9,
   "metadata": {},
   "outputs": [
    {
     "data": {
      "text/plain": [
       "['todo individuo que se hallare arrestado, detenido o preso con infracción de lo dispuesto en la constitución o en las leyes, podrá ocurrir por sí, o por cualquiera a su nombre, a la magistratura que señale la ley, a fin de que ésta ordene se guarden las formalidades legales y adopte de inmediato las providencias que juzgue necesarias para restablecer el imperio del derecho y asegurar la debida protección del afectado.\\r\\n',\n",
       " 'esa magistratura podrá ordenar que el individuo sea traído a su presencia y su decreto será precisamente obedecido por todos los encargados de las cárceles o lugares de detención. instruida de los antecedentes, decretará su libertad inmediata o hará que se reparen los defectos legales o pondrá al individuo a disposición del juez competente, procediendo en todo breve y sumariamente, y corrigiendo por sí esos defectos o dando cuenta a quien corresponda para que los corrija.',\n",
       " 'el mismo recurso, y en igual forma, podrá ser deducido en favor de toda persona que ilegalmente sufra cualquiera otra privación, perturbación o amenaza en su derecho a la libertad personal y seguridad individual. la respectiva magistratura dictará en tal caso las medidas indicadas en los incisos anteriores que estime conducentes para restablecer el imperio del derecho y asegurar la debida protección del afectado.']"
      ]
     },
     "execution_count": 9,
     "metadata": {},
     "output_type": "execute_result"
    }
   ],
   "source": [
    "# haremos una lista donde guardaremos los elementos de contenido del df.\n",
    "dflimpio = [] # lista vacia\n",
    "\n",
    "# ciclo for para recorrer el df y guardar elementos en dflimpio.\n",
    "for i, t in df.iterrows():\n",
    "    dflimpio.append(t[0].lower()) # arpovechamos de pasar a bajas.\n",
    "\n",
    "# mostrar dflimpio. \n",
    "dflimpio \n",
    "\n",
    "# mostrara el primero de 3 eementos\n",
    "# probar la siguiente linea descomentandola (sacar el #).   \n",
    "#dflimpio[0] "
   ]
  },
  {
   "cell_type": "markdown",
   "metadata": {},
   "source": [
    "# 3- SEPARAR PALABRAS\n",
    "##### Para iniciar analisis de texto, por lo general se separan las palabras y se colocan todas juntas, lo que se conoce como bolsa de palabras ('bag og words'). "
   ]
  },
  {
   "cell_type": "code",
   "execution_count": 10,
   "metadata": {},
   "outputs": [
    {
     "data": {
      "text/plain": [
       "['todo',\n",
       " 'individuo',\n",
       " 'que',\n",
       " 'se',\n",
       " 'hallare',\n",
       " 'arrestado,',\n",
       " 'detenido',\n",
       " 'o',\n",
       " 'preso',\n",
       " 'con',\n",
       " 'infracción',\n",
       " 'de',\n",
       " 'lo',\n",
       " 'dispuesto',\n",
       " 'en',\n",
       " 'la',\n",
       " 'constitución',\n",
       " 'o',\n",
       " 'en',\n",
       " 'las',\n",
       " 'leyes,',\n",
       " 'podrá',\n",
       " 'ocurrir',\n",
       " 'por',\n",
       " 'sí,',\n",
       " 'o',\n",
       " 'por',\n",
       " 'cualquiera',\n",
       " 'a',\n",
       " 'su',\n",
       " 'nombre,',\n",
       " 'a',\n",
       " 'la',\n",
       " 'magistratura',\n",
       " 'que',\n",
       " 'señale',\n",
       " 'la',\n",
       " 'ley,',\n",
       " 'a',\n",
       " 'fin',\n",
       " 'de',\n",
       " 'que',\n",
       " 'ésta',\n",
       " 'ordene',\n",
       " 'se',\n",
       " 'guarden',\n",
       " 'las',\n",
       " 'formalidades',\n",
       " 'legales',\n",
       " 'y',\n",
       " 'adopte',\n",
       " 'de',\n",
       " 'inmediato',\n",
       " 'las',\n",
       " 'providencias',\n",
       " 'que',\n",
       " 'juzgue',\n",
       " 'necesarias',\n",
       " 'para',\n",
       " 'restablecer',\n",
       " 'el',\n",
       " 'imperio',\n",
       " 'del',\n",
       " 'derecho',\n",
       " 'y',\n",
       " 'asegurar',\n",
       " 'la',\n",
       " 'debida',\n",
       " 'protección',\n",
       " 'del',\n",
       " 'afectado.\\r\\n']"
      ]
     },
     "execution_count": 10,
     "metadata": {},
     "output_type": "execute_result"
    }
   ],
   "source": [
    "# separaremos el parrafo 0 en sus palabras.  \n",
    "# split separa por un caracter, en este caso por ' ' (espacio).\n",
    "parrafo_separados = dflimpio[0].split(' ') # separar al encontrar ' ' \n",
    "\n",
    "# ahora tenemos una lista nueva de palabras separadas.\n",
    "parrafo_separados"
   ]
  },
  {
   "cell_type": "markdown",
   "metadata": {},
   "source": [
    "# 4- REMOVER PALABRAS SINITERES \n",
    "##### queda remover las palabras sin interes semantico,\n",
    "##### o sea que no aportan informacion para este analisis (en otros casos pueden ser importantes)."
   ]
  },
  {
   "cell_type": "code",
   "execution_count": 11,
   "metadata": {},
   "outputs": [
    {
     "data": {
      "text/plain": [
       "['todo',\n",
       " 'individuo',\n",
       " 'que',\n",
       " 'se',\n",
       " 'hallare',\n",
       " 'arrestado,',\n",
       " 'detenido',\n",
       " 'preso',\n",
       " 'infracción',\n",
       " 'de',\n",
       " 'dispuesto',\n",
       " 'la',\n",
       " 'constitución',\n",
       " 'leyes,',\n",
       " 'podrá',\n",
       " 'ocurrir',\n",
       " 'sí,',\n",
       " 'cualquiera',\n",
       " 'su',\n",
       " 'nombre,',\n",
       " 'la',\n",
       " 'magistratura',\n",
       " 'que',\n",
       " 'señale',\n",
       " 'la',\n",
       " 'ley,',\n",
       " 'fin',\n",
       " 'de',\n",
       " 'que',\n",
       " 'ésta',\n",
       " 'ordene',\n",
       " 'se',\n",
       " 'guarden',\n",
       " 'formalidades',\n",
       " 'legales',\n",
       " 'adopte',\n",
       " 'de',\n",
       " 'inmediato',\n",
       " 'providencias',\n",
       " 'que',\n",
       " 'juzgue',\n",
       " 'necesarias',\n",
       " 'restablecer',\n",
       " 'imperio',\n",
       " 'derecho',\n",
       " 'asegurar',\n",
       " 'la',\n",
       " 'debida',\n",
       " 'protección',\n",
       " 'afectado.\\r\\n']"
      ]
     },
     "execution_count": 11,
     "metadata": {},
     "output_type": "execute_result"
    }
   ],
   "source": [
    "# remover palabras vacias.\n",
    "# usaremos una funcion para remover palabras.\n",
    "def quitar_palabras( lista_palabras, sacar):\n",
    "    return [w for w in lista_palabras if w not in sacar]\n",
    "\n",
    "\n",
    "# lista de palabras que nos interesa eliminar. \n",
    "# que otras palabras agregaria a la lista para quitar?. \n",
    "palabras_sacar = ['a','con','del','el','en','esta','lo','las','para','por','si','y','o'] \n",
    "\n",
    "# ahora removeremos y guardaremos en lista_limpia.\n",
    "palabras_limpia = quitar_palabras( parrafo_separados, palabras_sacar) \n",
    "\n",
    "# mostrar lista_limpia.\n",
    "palabras_limpia"
   ]
  },
  {
   "cell_type": "markdown",
   "metadata": {},
   "source": [
    "# 5- CONTAR FRECUECIA PALABRAS \n",
    "##### Con la bolsa de palabras limpia se pueden contar la frecuencia o cuantas veces aprarece una palabra."
   ]
  },
  {
   "cell_type": "code",
   "execution_count": 12,
   "metadata": {},
   "outputs": [
    {
     "data": {
      "text/plain": [
       "[1,\n",
       " 1,\n",
       " 4,\n",
       " 2,\n",
       " 1,\n",
       " 1,\n",
       " 1,\n",
       " 1,\n",
       " 1,\n",
       " 3,\n",
       " 1,\n",
       " 4,\n",
       " 1,\n",
       " 1,\n",
       " 1,\n",
       " 1,\n",
       " 1,\n",
       " 1,\n",
       " 1,\n",
       " 1,\n",
       " 4,\n",
       " 1,\n",
       " 4,\n",
       " 1,\n",
       " 4,\n",
       " 1,\n",
       " 1,\n",
       " 3,\n",
       " 4,\n",
       " 1,\n",
       " 1,\n",
       " 2,\n",
       " 1,\n",
       " 1,\n",
       " 1,\n",
       " 1,\n",
       " 3,\n",
       " 1,\n",
       " 1,\n",
       " 4,\n",
       " 1,\n",
       " 1,\n",
       " 1,\n",
       " 1,\n",
       " 1,\n",
       " 1,\n",
       " 4,\n",
       " 1,\n",
       " 1,\n",
       " 1]"
      ]
     },
     "execution_count": 12,
     "metadata": {},
     "output_type": "execute_result"
    }
   ],
   "source": [
    "# contar frecuencia de palabras.\n",
    "# usaremos una funcion para contar palabras.\n",
    "def contar_palabras( lista_palabras ):\n",
    "    frec_palabras = [lista_palabras.count(p) for p in lista_palabras]\n",
    "    return list( frec_palabras )\n",
    "\n",
    "# mostrar diccionario creado con frecuencia de palabras. \n",
    "palabras_frecuencia = contar_palabras( palabras_limpia ) \n",
    "palabras_frecuencia\n"
   ]
  },
  {
   "cell_type": "markdown",
   "metadata": {},
   "source": [
    "# 6- GRAFICAR RESULTADOS \n",
    "##### Si bien no es una limpieza exhaustiva, podemos graficar los resultados que tenemos hasta ahora. "
   ]
  },
  {
   "cell_type": "code",
   "execution_count": 13,
   "metadata": {},
   "outputs": [
    {
     "name": "stdout",
     "output_type": "stream",
     "text": [
      "['todo', 'individuo', 'que', 'se', 'hallare', 'arrestado,', 'detenido', 'preso', 'infracción', 'de', 'dispuesto', 'la', 'constitución', 'leyes,', 'podrá', 'ocurrir', 'sí,', 'cualquiera', 'su', 'nombre,', 'la', 'magistratura', 'que', 'señale', 'la', 'ley,', 'fin', 'de', 'que', 'ésta', 'ordene', 'se', 'guarden', 'formalidades', 'legales', 'adopte', 'de', 'inmediato', 'providencias', 'que', 'juzgue', 'necesarias', 'restablecer', 'imperio', 'derecho', 'asegurar', 'la', 'debida', 'protección', 'afectado.\\r\\n'] \n",
      "\n",
      " [1, 1, 4, 2, 1, 1, 1, 1, 1, 3, 1, 4, 1, 1, 1, 1, 1, 1, 1, 1, 4, 1, 4, 1, 4, 1, 1, 3, 4, 1, 1, 2, 1, 1, 1, 1, 3, 1, 1, 4, 1, 1, 1, 1, 1, 1, 4, 1, 1, 1]\n"
     ]
    }
   ],
   "source": [
    "# para este caso usaremos dos istas separadas, p y f: \n",
    "# una con palabras limpias y otra con sus frecuencias.\n",
    "print(palabras_limpia,'\\n\\n', palabras_frecuencia)"
   ]
  },
  {
   "cell_type": "code",
   "execution_count": 17,
   "metadata": {},
   "outputs": [
    {
     "name": "stderr",
     "output_type": "stream",
     "text": [
      "//anaconda3/lib/python3.7/site-packages/matplotlib/backends/backend_agg.py:211: RuntimeWarning: Glyph 13 missing from current font.\n",
      "  font.set_text(s, 0.0, flags=flags)\n",
      "//anaconda3/lib/python3.7/site-packages/matplotlib/backends/backend_agg.py:180: RuntimeWarning: Glyph 13 missing from current font.\n",
      "  font.set_text(s, 0, flags=flags)\n"
     ]
    },
    {
     "data": {
      "image/png": "[encoded data removed]",
      "text/plain": [
       "<Figure size 864x720 with 1 Axes>"
      ]
     },
     "metadata": {
      "needs_background": "light"
     },
     "output_type": "display_data"
    }
   ],
   "source": [
    "# importar libreria matplotlib.\n",
    "import matplotlib.pyplot as plt\n",
    "\n",
    "# para este caso usaremos dos istas separadas, p y f\n",
    "p = palabras_limpia\n",
    "f = palabras_frecuencia\n",
    "\n",
    "fig=plt.figure(figsize=(12, 10)) # tamano del grafico.\n",
    "plt.title(\"Frecuencia de palabras en el texto\") # titulo. \n",
    "plt.xlabel(\"Frecuencia\") # texto eje X. \n",
    "plt.ylabel(\"Palabras\") # texto eje Y.\n",
    "\n",
    "plt.barh(p, f, align='center') # dibujar el grafico.\n",
    "\n",
    "# mostrar el grafico. \n",
    "plt.show() "
   ]
  },
  {
   "cell_type": "code",
   "execution_count": 18,
   "metadata": {},
   "outputs": [],
   "source": [
    "# el grafico no es muy interesante, pero el principio es el mismo para otros textos. \n",
    "# el trabajo con texto requiere tener muchos datos para que tenga sentido. \n",
    "# por ahora puede usted probar agregando algun otro texto desde archivo externo.\n",
    "# podria probar mejorando y guardando el grafico. "
   ]
  },
  {
   "cell_type": "code",
   "execution_count": 19,
   "metadata": {},
   "outputs": [],
   "source": [
    "# Para texto se pueden realizar muchos otros tipos de analisis,\n",
    "# como\"Analisis de sentimientos\",\"Modelamiento de Topicos\",\"Reconocimiento de entidades\", etc.\n",
    "# pero las vistas son algunas de las primeras operaciones a realizar. "
   ]
  },
  {
   "cell_type": "code",
   "execution_count": null,
   "metadata": {},
   "outputs": [],
   "source": []
  }
 ],
 "metadata": {
  "kernelspec": {
   "display_name": "Python 3",
   "language": "python",
   "name": "python3"
  },
  "language_info": {
   "codemirror_mode": {
    "name": "ipython",
    "version": 3
   },
   "file_extension": ".py",
   "mimetype": "text/x-python",
   "name": "python",
   "nbconvert_exporter": "python",
   "pygments_lexer": "ipython3",
   "version": "3.7.3"
  }
 },
 "nbformat": 4,
 "nbformat_minor": 2
}
