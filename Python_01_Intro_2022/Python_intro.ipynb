{
 "cells": [
  {
   "cell_type": "markdown",
   "metadata": {},
   "source": [
    "## INTRODUCCION A LA PROGRAMACIÓN CON PYTHON\n",
    "\n",
    "* Prof. Ricardo Vega M.\n",
    "\n",
    "Python es un lenguaje de programación interpretado cuya filosofía hace hincapié en la legibilidad de su código. Es un lenguaje interpretado, dinámico y multiplataforma. \n",
    "\n",
    "Para saber un poco más de Python: \n",
    "https://ellibrodepython.com/que-es-python "
   ]
  },
  {
   "cell_type": "markdown",
   "metadata": {},
   "source": [
    "## Variables \n",
    "Pensar en las variables como una cajita con un nombre en donde se guardan valores que se pueden usar después. "
   ]
  },
  {
   "cell_type": "code",
   "execution_count": 1,
   "metadata": {},
   "outputs": [
    {
     "name": "stdout",
     "output_type": "stream",
     "text": [
      "<class 'str'>\n"
     ]
    }
   ],
   "source": [
    "a = 1\n",
    "t = '5'\n",
    "#print( type(t) )\n",
    "print( type(t) )\n"
   ]
  },
  {
   "cell_type": "code",
   "execution_count": 2,
   "metadata": {},
   "outputs": [
    {
     "name": "stdout",
     "output_type": "stream",
     "text": [
      "7\n"
     ]
    }
   ],
   "source": [
    "## Se pueden hacer operaciones aritméticas.\n",
    "a = 5\n",
    "b = 2\n",
    "print( a + b )\n"
   ]
  },
  {
   "cell_type": "code",
   "execution_count": 3,
   "metadata": {},
   "outputs": [
    {
     "name": "stdout",
     "output_type": "stream",
     "text": [
      "6.5\n"
     ]
    }
   ],
   "source": [
    "## Se pueden reescribir los valores de las variables\n",
    "a = 5\n",
    "c = 1.5\n",
    "print( a+c )\n"
   ]
  },
  {
   "cell_type": "code",
   "execution_count": 4,
   "metadata": {},
   "outputs": [
    {
     "name": "stdout",
     "output_type": "stream",
     "text": [
      "Hola Juan\n"
     ]
    }
   ],
   "source": [
    "## Se pueden guardar textos también!\n",
    "c = \"Hola\"\n",
    "n = 'Juan'\n",
    "print( c, n )\n"
   ]
  },
  {
   "cell_type": "markdown",
   "metadata": {},
   "source": [
    "## Decisiones, if, else, elif\n",
    "Es la manera en que el comoutador toma desiciones, preguntando si un valor es tal o cual."
   ]
  },
  {
   "cell_type": "code",
   "execution_count": 5,
   "metadata": {},
   "outputs": [
    {
     "name": "stdout",
     "output_type": "stream",
     "text": [
      "a vale 5\n"
     ]
    }
   ],
   "source": [
    "## Probar cambiando el valor de a\n",
    "a = 5\n",
    "\n",
    "if a == 5:\n",
    "    print(\"a vale 5\")\n",
    "else:\n",
    "    print(\"a NO vale 5\")\n"
   ]
  },
  {
   "cell_type": "markdown",
   "metadata": {},
   "source": [
    "## Ciclos \n",
    "Permite repetir instrucciones según un límite."
   ]
  },
  {
   "cell_type": "code",
   "execution_count": 6,
   "metadata": {},
   "outputs": [
    {
     "name": "stdout",
     "output_type": "stream",
     "text": [
      "i Vale:  0\n",
      "i Vale:  1\n",
      "i Vale:  2\n",
      "i Vale:  3\n",
      "i Vale:  4\n",
      "i Vale:  5\n"
     ]
    }
   ],
   "source": [
    "## Para cada elemento i, entre 0 y 6, se hace lo siguiente... \n",
    "for i in range( 6 ):\n",
    "    print( \"i Vale: \", i )\n",
    "    "
   ]
  },
  {
   "cell_type": "markdown",
   "metadata": {},
   "source": [
    "## Listas o Arrays \n",
    "Nos sirve para tener una lista de muchos valores guardados con un mismo nombre."
   ]
  },
  {
   "cell_type": "code",
   "execution_count": 7,
   "metadata": {},
   "outputs": [
    {
     "name": "stdout",
     "output_type": "stream",
     "text": [
      "Claudia\n"
     ]
    }
   ],
   "source": [
    "## En este caso son textos que van entre comillas. \n",
    "nombres = ['Ana','Beatriz','Claudia','Diana','Elvira','Fernanda','Gabriela']\n",
    "print( nombres[2] ) ## cambiar valor entre los paréntesis cuadrados para acceder a otro nombre de la lista \n"
   ]
  },
  {
   "cell_type": "markdown",
   "metadata": {},
   "source": [
    "## Recorrer listas\n",
    "Se puede recorrer una lista con un ciclo."
   ]
  },
  {
   "cell_type": "code",
   "execution_count": 8,
   "metadata": {},
   "outputs": [
    {
     "name": "stdout",
     "output_type": "stream",
     "text": [
      "Ana\n",
      "Beatriz\n",
      "Claudia\n",
      "Diana\n",
      "Elvira\n",
      "Fernanda\n",
      "Gabriela\n"
     ]
    }
   ],
   "source": [
    "## Toma cada elemento n de la lista nombres  \n",
    "for n in range( len(nombres) ): ## len(nombres) indica la cantidad de elementos de la lista nombres  \n",
    "    print( nombres[ n ] )\n",
    "    "
   ]
  },
  {
   "cell_type": "code",
   "execution_count": 9,
   "metadata": {},
   "outputs": [
    {
     "name": "stdout",
     "output_type": "stream",
     "text": [
      "23\n",
      "18\n",
      "54\n",
      "29\n",
      "43\n",
      "41\n",
      "33\n"
     ]
    }
   ],
   "source": [
    "## Podemos tener listas de números también!\n",
    "edades = [23,18,54,29,43,41,33]\n",
    "\n",
    "for e in range( len(edades) ): ## len(nombres) indica la cantidad de elementos de la lista nombres  \n",
    "    print( edades[ e ] )\n",
    "    "
   ]
  },
  {
   "cell_type": "code",
   "execution_count": null,
   "metadata": {},
   "outputs": [],
   "source": []
  }
 ],
 "metadata": {
  "kernelspec": {
   "display_name": "Python 3",
   "language": "python",
   "name": "python3"
  },
  "language_info": {
   "codemirror_mode": {
    "name": "ipython",
    "version": 3
   },
   "file_extension": ".py",
   "mimetype": "text/x-python",
   "name": "python",
   "nbconvert_exporter": "python",
   "pygments_lexer": "ipython3",
   "version": "3.7.3"
  }
 },
 "nbformat": 4,
 "nbformat_minor": 2
}
