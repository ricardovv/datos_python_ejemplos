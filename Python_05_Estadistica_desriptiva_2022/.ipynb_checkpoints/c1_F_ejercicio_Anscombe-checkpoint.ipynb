{
 "cells": [
  {
   "cell_type": "markdown",
   "metadata": {},
   "source": [
    "# A- CUARTETO DE ANSCOMBE \n",
    "Ejercicio simple para reconocer el proceso de trabajo, desde importar los datos, reconocer algunas de sus características hasta generar visualizaciones simples. \n",
    "hola"
   ]
  },
  {
   "cell_type": "markdown",
   "metadata": {},
   "source": [
    "## 1- IMPORTAR LIBRERIAS Y CARGAR DATOS"
   ]
  },
  {
   "cell_type": "code",
   "execution_count": 1,
   "metadata": {},
   "outputs": [],
   "source": [
    "# importar librerias. Pandas es una libreria de Python para trabajar con datos. \n",
    "# se puede leer como \"importar la libreria PANDAS con el nombre pd\".\n",
    "import pandas as pd"
   ]
  },
  {
   "cell_type": "code",
   "execution_count": 2,
   "metadata": {},
   "outputs": [],
   "source": [
    "# cargar datos: pd.read_csv para leer archivos .csv\n",
    "# hay comandos para leer json, excel, entre otros.   \n",
    "df = pd.read_csv('datos/cuarteto_anscombe_solo_datos.csv', sep=';') # la ruta y nombre del archivo."
   ]
  },
  {
   "cell_type": "code",
   "execution_count": 3,
   "metadata": {},
   "outputs": [
    {
     "data": {
      "text/html": [
       "<div>\n",
       "<style scoped>\n",
       "    .dataframe tbody tr th:only-of-type {\n",
       "        vertical-align: middle;\n",
       "    }\n",
       "\n",
       "    .dataframe tbody tr th {\n",
       "        vertical-align: top;\n",
       "    }\n",
       "\n",
       "    .dataframe thead th {\n",
       "        text-align: right;\n",
       "    }\n",
       "</style>\n",
       "<table border=\"1\" class=\"dataframe\">\n",
       "  <thead>\n",
       "    <tr style=\"text-align: right;\">\n",
       "      <th></th>\n",
       "      <th>I_x</th>\n",
       "      <th>I_y</th>\n",
       "      <th>II_x</th>\n",
       "      <th>II_y</th>\n",
       "      <th>III_x</th>\n",
       "      <th>III_y</th>\n",
       "      <th>IV_x</th>\n",
       "      <th>IV_y</th>\n",
       "    </tr>\n",
       "  </thead>\n",
       "  <tbody>\n",
       "    <tr>\n",
       "      <th>0</th>\n",
       "      <td>10</td>\n",
       "      <td>8.04</td>\n",
       "      <td>10</td>\n",
       "      <td>9.14</td>\n",
       "      <td>10</td>\n",
       "      <td>7.46</td>\n",
       "      <td>8</td>\n",
       "      <td>6.58</td>\n",
       "    </tr>\n",
       "    <tr>\n",
       "      <th>1</th>\n",
       "      <td>8</td>\n",
       "      <td>6.95</td>\n",
       "      <td>8</td>\n",
       "      <td>8.14</td>\n",
       "      <td>8</td>\n",
       "      <td>6.77</td>\n",
       "      <td>8</td>\n",
       "      <td>5.76</td>\n",
       "    </tr>\n",
       "    <tr>\n",
       "      <th>2</th>\n",
       "      <td>13</td>\n",
       "      <td>7.58</td>\n",
       "      <td>13</td>\n",
       "      <td>8.74</td>\n",
       "      <td>13</td>\n",
       "      <td>12.74</td>\n",
       "      <td>8</td>\n",
       "      <td>7.71</td>\n",
       "    </tr>\n",
       "    <tr>\n",
       "      <th>3</th>\n",
       "      <td>9</td>\n",
       "      <td>8.81</td>\n",
       "      <td>9</td>\n",
       "      <td>8.77</td>\n",
       "      <td>9</td>\n",
       "      <td>7.11</td>\n",
       "      <td>8</td>\n",
       "      <td>8.84</td>\n",
       "    </tr>\n",
       "    <tr>\n",
       "      <th>4</th>\n",
       "      <td>11</td>\n",
       "      <td>8.33</td>\n",
       "      <td>11</td>\n",
       "      <td>9.26</td>\n",
       "      <td>11</td>\n",
       "      <td>7.81</td>\n",
       "      <td>8</td>\n",
       "      <td>8.47</td>\n",
       "    </tr>\n",
       "    <tr>\n",
       "      <th>5</th>\n",
       "      <td>14</td>\n",
       "      <td>9.96</td>\n",
       "      <td>14</td>\n",
       "      <td>8.10</td>\n",
       "      <td>14</td>\n",
       "      <td>8.84</td>\n",
       "      <td>8</td>\n",
       "      <td>7.04</td>\n",
       "    </tr>\n",
       "    <tr>\n",
       "      <th>6</th>\n",
       "      <td>6</td>\n",
       "      <td>7.24</td>\n",
       "      <td>6</td>\n",
       "      <td>6.13</td>\n",
       "      <td>6</td>\n",
       "      <td>6.08</td>\n",
       "      <td>8</td>\n",
       "      <td>5.25</td>\n",
       "    </tr>\n",
       "    <tr>\n",
       "      <th>7</th>\n",
       "      <td>4</td>\n",
       "      <td>4.26</td>\n",
       "      <td>4</td>\n",
       "      <td>3.10</td>\n",
       "      <td>4</td>\n",
       "      <td>5.39</td>\n",
       "      <td>19</td>\n",
       "      <td>12.50</td>\n",
       "    </tr>\n",
       "    <tr>\n",
       "      <th>8</th>\n",
       "      <td>12</td>\n",
       "      <td>10.84</td>\n",
       "      <td>12</td>\n",
       "      <td>9.13</td>\n",
       "      <td>12</td>\n",
       "      <td>8.15</td>\n",
       "      <td>8</td>\n",
       "      <td>5.56</td>\n",
       "    </tr>\n",
       "    <tr>\n",
       "      <th>9</th>\n",
       "      <td>7</td>\n",
       "      <td>4.82</td>\n",
       "      <td>7</td>\n",
       "      <td>7.26</td>\n",
       "      <td>7</td>\n",
       "      <td>6.42</td>\n",
       "      <td>8</td>\n",
       "      <td>7.91</td>\n",
       "    </tr>\n",
       "    <tr>\n",
       "      <th>10</th>\n",
       "      <td>5</td>\n",
       "      <td>5.68</td>\n",
       "      <td>5</td>\n",
       "      <td>4.74</td>\n",
       "      <td>5</td>\n",
       "      <td>5.73</td>\n",
       "      <td>8</td>\n",
       "      <td>6.89</td>\n",
       "    </tr>\n",
       "  </tbody>\n",
       "</table>\n",
       "</div>"
      ],
      "text/plain": [
       "    I_x    I_y  II_x  II_y  III_x  III_y  IV_x   IV_y\n",
       "0    10   8.04    10  9.14     10   7.46     8   6.58\n",
       "1     8   6.95     8  8.14      8   6.77     8   5.76\n",
       "2    13   7.58    13  8.74     13  12.74     8   7.71\n",
       "3     9   8.81     9  8.77      9   7.11     8   8.84\n",
       "4    11   8.33    11  9.26     11   7.81     8   8.47\n",
       "5    14   9.96    14  8.10     14   8.84     8   7.04\n",
       "6     6   7.24     6  6.13      6   6.08     8   5.25\n",
       "7     4   4.26     4  3.10      4   5.39    19  12.50\n",
       "8    12  10.84    12  9.13     12   8.15     8   5.56\n",
       "9     7   4.82     7  7.26      7   6.42     8   7.91\n",
       "10    5   5.68     5  4.74      5   5.73     8   6.89"
      ]
     },
     "execution_count": 3,
     "metadata": {},
     "output_type": "execute_result"
    }
   ],
   "source": [
    "# mostrar el dataframe donde se guardaron los datos.\n",
    "df "
   ]
  },
  {
   "cell_type": "markdown",
   "metadata": {},
   "source": [
    "## 2- Explorar"
   ]
  },
  {
   "cell_type": "code",
   "execution_count": 4,
   "metadata": {},
   "outputs": [
    {
     "data": {
      "text/plain": [
       "(11, 8)"
      ]
     },
     "execution_count": 4,
     "metadata": {},
     "output_type": "execute_result"
    }
   ],
   "source": [
    "# muestra la forma general del dataframe: cantidad de filas y columnas.\n",
    "df.shape"
   ]
  },
  {
   "cell_type": "code",
   "execution_count": 5,
   "metadata": {},
   "outputs": [
    {
     "name": "stdout",
     "output_type": "stream",
     "text": [
      "<class 'pandas.core.frame.DataFrame'>\n",
      "RangeIndex: 11 entries, 0 to 10\n",
      "Data columns (total 8 columns):\n",
      " #   Column  Non-Null Count  Dtype  \n",
      "---  ------  --------------  -----  \n",
      " 0   I_x     11 non-null     int64  \n",
      " 1   I_y     11 non-null     float64\n",
      " 2   II_x    11 non-null     int64  \n",
      " 3   II_y    11 non-null     float64\n",
      " 4   III_x   11 non-null     int64  \n",
      " 5   III_y   11 non-null     float64\n",
      " 6   IV_x    11 non-null     int64  \n",
      " 7   IV_y    11 non-null     float64\n",
      "dtypes: float64(4), int64(4)\n",
      "memory usage: 832.0 bytes\n"
     ]
    }
   ],
   "source": [
    "# muestra información general de los datos: \n",
    "# tipo de datos, filas, coumnas...\n",
    "df.info()"
   ]
  },
  {
   "cell_type": "code",
   "execution_count": 6,
   "metadata": {},
   "outputs": [
    {
     "data": {
      "text/html": [
       "<div>\n",
       "<style scoped>\n",
       "    .dataframe tbody tr th:only-of-type {\n",
       "        vertical-align: middle;\n",
       "    }\n",
       "\n",
       "    .dataframe tbody tr th {\n",
       "        vertical-align: top;\n",
       "    }\n",
       "\n",
       "    .dataframe thead th {\n",
       "        text-align: right;\n",
       "    }\n",
       "</style>\n",
       "<table border=\"1\" class=\"dataframe\">\n",
       "  <thead>\n",
       "    <tr style=\"text-align: right;\">\n",
       "      <th></th>\n",
       "      <th>I_x</th>\n",
       "      <th>I_y</th>\n",
       "      <th>II_x</th>\n",
       "      <th>II_y</th>\n",
       "      <th>III_x</th>\n",
       "      <th>III_y</th>\n",
       "      <th>IV_x</th>\n",
       "      <th>IV_y</th>\n",
       "    </tr>\n",
       "  </thead>\n",
       "  <tbody>\n",
       "    <tr>\n",
       "      <th>count</th>\n",
       "      <td>11.000000</td>\n",
       "      <td>11.000000</td>\n",
       "      <td>11.000000</td>\n",
       "      <td>11.000000</td>\n",
       "      <td>11.000000</td>\n",
       "      <td>11.000000</td>\n",
       "      <td>11.000000</td>\n",
       "      <td>11.000000</td>\n",
       "    </tr>\n",
       "    <tr>\n",
       "      <th>mean</th>\n",
       "      <td>9.000000</td>\n",
       "      <td>7.500909</td>\n",
       "      <td>9.000000</td>\n",
       "      <td>7.500909</td>\n",
       "      <td>9.000000</td>\n",
       "      <td>7.500000</td>\n",
       "      <td>9.000000</td>\n",
       "      <td>7.500909</td>\n",
       "    </tr>\n",
       "    <tr>\n",
       "      <th>std</th>\n",
       "      <td>3.316625</td>\n",
       "      <td>2.031568</td>\n",
       "      <td>3.316625</td>\n",
       "      <td>2.031657</td>\n",
       "      <td>3.316625</td>\n",
       "      <td>2.030424</td>\n",
       "      <td>3.316625</td>\n",
       "      <td>2.030579</td>\n",
       "    </tr>\n",
       "    <tr>\n",
       "      <th>min</th>\n",
       "      <td>4.000000</td>\n",
       "      <td>4.260000</td>\n",
       "      <td>4.000000</td>\n",
       "      <td>3.100000</td>\n",
       "      <td>4.000000</td>\n",
       "      <td>5.390000</td>\n",
       "      <td>8.000000</td>\n",
       "      <td>5.250000</td>\n",
       "    </tr>\n",
       "    <tr>\n",
       "      <th>25%</th>\n",
       "      <td>6.500000</td>\n",
       "      <td>6.315000</td>\n",
       "      <td>6.500000</td>\n",
       "      <td>6.695000</td>\n",
       "      <td>6.500000</td>\n",
       "      <td>6.250000</td>\n",
       "      <td>8.000000</td>\n",
       "      <td>6.170000</td>\n",
       "    </tr>\n",
       "    <tr>\n",
       "      <th>50%</th>\n",
       "      <td>9.000000</td>\n",
       "      <td>7.580000</td>\n",
       "      <td>9.000000</td>\n",
       "      <td>8.140000</td>\n",
       "      <td>9.000000</td>\n",
       "      <td>7.110000</td>\n",
       "      <td>8.000000</td>\n",
       "      <td>7.040000</td>\n",
       "    </tr>\n",
       "    <tr>\n",
       "      <th>75%</th>\n",
       "      <td>11.500000</td>\n",
       "      <td>8.570000</td>\n",
       "      <td>11.500000</td>\n",
       "      <td>8.950000</td>\n",
       "      <td>11.500000</td>\n",
       "      <td>7.980000</td>\n",
       "      <td>8.000000</td>\n",
       "      <td>8.190000</td>\n",
       "    </tr>\n",
       "    <tr>\n",
       "      <th>max</th>\n",
       "      <td>14.000000</td>\n",
       "      <td>10.840000</td>\n",
       "      <td>14.000000</td>\n",
       "      <td>9.260000</td>\n",
       "      <td>14.000000</td>\n",
       "      <td>12.740000</td>\n",
       "      <td>19.000000</td>\n",
       "      <td>12.500000</td>\n",
       "    </tr>\n",
       "  </tbody>\n",
       "</table>\n",
       "</div>"
      ],
      "text/plain": [
       "             I_x        I_y       II_x       II_y      III_x      III_y  \\\n",
       "count  11.000000  11.000000  11.000000  11.000000  11.000000  11.000000   \n",
       "mean    9.000000   7.500909   9.000000   7.500909   9.000000   7.500000   \n",
       "std     3.316625   2.031568   3.316625   2.031657   3.316625   2.030424   \n",
       "min     4.000000   4.260000   4.000000   3.100000   4.000000   5.390000   \n",
       "25%     6.500000   6.315000   6.500000   6.695000   6.500000   6.250000   \n",
       "50%     9.000000   7.580000   9.000000   8.140000   9.000000   7.110000   \n",
       "75%    11.500000   8.570000  11.500000   8.950000  11.500000   7.980000   \n",
       "max    14.000000  10.840000  14.000000   9.260000  14.000000  12.740000   \n",
       "\n",
       "            IV_x       IV_y  \n",
       "count  11.000000  11.000000  \n",
       "mean    9.000000   7.500909  \n",
       "std     3.316625   2.030579  \n",
       "min     8.000000   5.250000  \n",
       "25%     8.000000   6.170000  \n",
       "50%     8.000000   7.040000  \n",
       "75%     8.000000   8.190000  \n",
       "max    19.000000  12.500000  "
      ]
     },
     "execution_count": 6,
     "metadata": {},
     "output_type": "execute_result"
    }
   ],
   "source": [
    "# muestra un resúmen estadistico de las columnas: \n",
    "# promedio, desviación estandar, valores mínimos y máximos.\n",
    "df.describe()"
   ]
  },
  {
   "cell_type": "code",
   "execution_count": 7,
   "metadata": {},
   "outputs": [
    {
     "data": {
      "text/html": [
       "<div>\n",
       "<style scoped>\n",
       "    .dataframe tbody tr th:only-of-type {\n",
       "        vertical-align: middle;\n",
       "    }\n",
       "\n",
       "    .dataframe tbody tr th {\n",
       "        vertical-align: top;\n",
       "    }\n",
       "\n",
       "    .dataframe thead th {\n",
       "        text-align: right;\n",
       "    }\n",
       "</style>\n",
       "<table border=\"1\" class=\"dataframe\">\n",
       "  <thead>\n",
       "    <tr style=\"text-align: right;\">\n",
       "      <th></th>\n",
       "      <th>I_x</th>\n",
       "      <th>I_y</th>\n",
       "      <th>II_x</th>\n",
       "      <th>II_y</th>\n",
       "      <th>III_x</th>\n",
       "      <th>III_y</th>\n",
       "      <th>IV_x</th>\n",
       "      <th>IV_y</th>\n",
       "    </tr>\n",
       "  </thead>\n",
       "  <tbody>\n",
       "    <tr>\n",
       "      <th>0</th>\n",
       "      <td>10</td>\n",
       "      <td>8.04</td>\n",
       "      <td>10</td>\n",
       "      <td>9.14</td>\n",
       "      <td>10</td>\n",
       "      <td>7.46</td>\n",
       "      <td>8</td>\n",
       "      <td>6.58</td>\n",
       "    </tr>\n",
       "    <tr>\n",
       "      <th>1</th>\n",
       "      <td>8</td>\n",
       "      <td>6.95</td>\n",
       "      <td>8</td>\n",
       "      <td>8.14</td>\n",
       "      <td>8</td>\n",
       "      <td>6.77</td>\n",
       "      <td>8</td>\n",
       "      <td>5.76</td>\n",
       "    </tr>\n",
       "    <tr>\n",
       "      <th>2</th>\n",
       "      <td>13</td>\n",
       "      <td>7.58</td>\n",
       "      <td>13</td>\n",
       "      <td>8.74</td>\n",
       "      <td>13</td>\n",
       "      <td>12.74</td>\n",
       "      <td>8</td>\n",
       "      <td>7.71</td>\n",
       "    </tr>\n",
       "    <tr>\n",
       "      <th>3</th>\n",
       "      <td>9</td>\n",
       "      <td>8.81</td>\n",
       "      <td>9</td>\n",
       "      <td>8.77</td>\n",
       "      <td>9</td>\n",
       "      <td>7.11</td>\n",
       "      <td>8</td>\n",
       "      <td>8.84</td>\n",
       "    </tr>\n",
       "    <tr>\n",
       "      <th>4</th>\n",
       "      <td>11</td>\n",
       "      <td>8.33</td>\n",
       "      <td>11</td>\n",
       "      <td>9.26</td>\n",
       "      <td>11</td>\n",
       "      <td>7.81</td>\n",
       "      <td>8</td>\n",
       "      <td>8.47</td>\n",
       "    </tr>\n",
       "  </tbody>\n",
       "</table>\n",
       "</div>"
      ],
      "text/plain": [
       "   I_x   I_y  II_x  II_y  III_x  III_y  IV_x  IV_y\n",
       "0   10  8.04    10  9.14     10   7.46     8  6.58\n",
       "1    8  6.95     8  8.14      8   6.77     8  5.76\n",
       "2   13  7.58    13  8.74     13  12.74     8  7.71\n",
       "3    9  8.81     9  8.77      9   7.11     8  8.84\n",
       "4   11  8.33    11  9.26     11   7.81     8  8.47"
      ]
     },
     "execution_count": 7,
     "metadata": {},
     "output_type": "execute_result"
    }
   ],
   "source": [
    "# muestra primeras 5 filas por defecto.\n",
    "df.head() # df.head(2) probar cambiando valor entre paréntesis."
   ]
  },
  {
   "cell_type": "code",
   "execution_count": 8,
   "metadata": {},
   "outputs": [
    {
     "data": {
      "text/html": [
       "<div>\n",
       "<style scoped>\n",
       "    .dataframe tbody tr th:only-of-type {\n",
       "        vertical-align: middle;\n",
       "    }\n",
       "\n",
       "    .dataframe tbody tr th {\n",
       "        vertical-align: top;\n",
       "    }\n",
       "\n",
       "    .dataframe thead th {\n",
       "        text-align: right;\n",
       "    }\n",
       "</style>\n",
       "<table border=\"1\" class=\"dataframe\">\n",
       "  <thead>\n",
       "    <tr style=\"text-align: right;\">\n",
       "      <th></th>\n",
       "      <th>I_x</th>\n",
       "      <th>I_y</th>\n",
       "      <th>II_x</th>\n",
       "      <th>II_y</th>\n",
       "      <th>III_x</th>\n",
       "      <th>III_y</th>\n",
       "      <th>IV_x</th>\n",
       "      <th>IV_y</th>\n",
       "    </tr>\n",
       "  </thead>\n",
       "  <tbody>\n",
       "    <tr>\n",
       "      <th>9</th>\n",
       "      <td>7</td>\n",
       "      <td>4.82</td>\n",
       "      <td>7</td>\n",
       "      <td>7.26</td>\n",
       "      <td>7</td>\n",
       "      <td>6.42</td>\n",
       "      <td>8</td>\n",
       "      <td>7.91</td>\n",
       "    </tr>\n",
       "    <tr>\n",
       "      <th>10</th>\n",
       "      <td>5</td>\n",
       "      <td>5.68</td>\n",
       "      <td>5</td>\n",
       "      <td>4.74</td>\n",
       "      <td>5</td>\n",
       "      <td>5.73</td>\n",
       "      <td>8</td>\n",
       "      <td>6.89</td>\n",
       "    </tr>\n",
       "  </tbody>\n",
       "</table>\n",
       "</div>"
      ],
      "text/plain": [
       "    I_x   I_y  II_x  II_y  III_x  III_y  IV_x  IV_y\n",
       "9     7  4.82     7  7.26      7   6.42     8  7.91\n",
       "10    5  5.68     5  4.74      5   5.73     8  6.89"
      ]
     },
     "execution_count": 8,
     "metadata": {},
     "output_type": "execute_result"
    }
   ],
   "source": [
    "# muestra últimas 5 filas por defecto. \n",
    "df.tail(2) # df.tail(2) probar cambiando valor entre paréntesis. "
   ]
  },
  {
   "cell_type": "code",
   "execution_count": 9,
   "metadata": {},
   "outputs": [
    {
     "data": {
      "text/plain": [
       "0     10\n",
       "1      8\n",
       "2     13\n",
       "3      9\n",
       "4     11\n",
       "5     14\n",
       "6      6\n",
       "7      4\n",
       "8     12\n",
       "9      7\n",
       "10     5\n",
       "Name: I_x, dtype: int64"
      ]
     },
     "execution_count": 9,
     "metadata": {},
     "output_type": "execute_result"
    }
   ],
   "source": [
    "# selecciona una columna y muestra sus valores.\n",
    "# nombre de columna entre paréntesis y probar con otro nombre de columna.\n",
    "df['I_x']"
   ]
  },
  {
   "cell_type": "markdown",
   "metadata": {},
   "source": [
    "## 3- VISUALIZAR BARRAS\n",
    "### Para visualizar se debe importar la ibrería de visualización, usaremos MatPlotLib que viene con python  "
   ]
  },
  {
   "cell_type": "code",
   "execution_count": 10,
   "metadata": {},
   "outputs": [],
   "source": [
    "# importar librería visualización.\n",
    "# se lee \"importar la librería matplotlib.pyplot con el nombre plt\".\n",
    "import matplotlib.pyplot as plt"
   ]
  },
  {
   "cell_type": "code",
   "execution_count": 11,
   "metadata": {},
   "outputs": [
    {
     "data": {
      "text/plain": [
       "<BarContainer object of 11 artists>"
      ]
     },
     "execution_count": 11,
     "metadata": {},
     "output_type": "execute_result"
    },
    {
     "data": {
      "image/png": "[encoded data removed]",
      "text/plain": [
       "<Figure size 432x288 with 1 Axes>"
      ]
     },
     "metadata": {
      "needs_background": "light"
     },
     "output_type": "display_data"
    }
   ],
   "source": [
    "# mostrar valores de dos columnas con un gráfico de barras.\n",
    "x1 = df['I_x'] # en x1 guardaremos los datos de la columna'I_x'.\n",
    "y1 = df['I_y'] # en y1 guardaremos los datos de la columna'I_y'.\n",
    "plt.bar(x=x1, height=y1) # de plt usaremos los gráficos de barra."
   ]
  },
  {
   "cell_type": "code",
   "execution_count": 12,
   "metadata": {
    "scrolled": true
   },
   "outputs": [
    {
     "data": {
      "image/png": "[encoded data removed]",
      "text/plain": [
       "<Figure size 432x288 with 1 Axes>"
      ]
     },
     "metadata": {
      "needs_background": "light"
     },
     "output_type": "display_data"
    }
   ],
   "source": [
    "# crear un gráfico con otros elementos.\n",
    "fig=plt.figure(figsize=(6, 4)) # tamaño del gráfico.\n",
    "\n",
    "plt.title(\"El Famoso Cuarteto de Anscombe\") # título.\n",
    "plt.xlabel(\"Este es el Eje X\") # texto eje X. \n",
    "plt.ylabel(\"Este es el Eje Y\") # texto eje Y. \n",
    "\n",
    "plt.bar(x=x1, height=y1, color='green') # gráfico de barras.\n",
    "\n",
    "# guarda el gráfico en la ruta selecionada.\n",
    "plt.savefig('guardar/a_cuarteto_barra.jpg')\n",
    "\n",
    "# esta línea muestra el gráfico.\n",
    "#plt.show() "
   ]
  },
  {
   "cell_type": "markdown",
   "metadata": {},
   "source": [
    "## 4- VISUALIZAR SCATTERPLOT\n",
    "### En este scaterpot graficaremos todos los conjuntos como se compara en el gráfico de Anscombe. Como ejercicio puede probar como mejorar la representación: colores, títulos, etc. "
   ]
  },
  {
   "cell_type": "code",
   "execution_count": 13,
   "metadata": {},
   "outputs": [
    {
     "data": {
      "image/png": "[encoded data removed]",
      "text/plain": [
       "<Figure size 1152x720 with 4 Axes>"
      ]
     },
     "metadata": {
      "needs_background": "light"
     },
     "output_type": "display_data"
    }
   ],
   "source": [
    "# en este scaterpot graficaremos dos conjuntos de datos, I y II.\n",
    "x1, y1 = df['I_x'], df['I_y']\n",
    "x2, y2 = df['II_x'], df['II_y']\n",
    "x3, y3 = df['III_x'], df['III_y']\n",
    "x4, y4 = df['IV_x'], df['IV_y']\n",
    " \n",
    "fig=plt.figure(figsize=(16, 10)) # tamaño del gráfico.\n",
    "    \n",
    "# grafica el primer conjunto.\n",
    "plt.subplot(221) # 2 columnas, 2 filas y posición 1.\n",
    "plt.title('Serie I')\n",
    "plt.scatter(x1, y1, s=80, color='red', marker='o' )\n",
    "\n",
    "# grafica el segundo conjunto.\n",
    "plt.subplot(222) # 2 columnas, 2 filas y posición 2.\n",
    "plt.title('Serie II')\n",
    "plt.scatter(x2, y2, s=80, color='blue', marker='o')\n",
    "\n",
    "# grafica el tercer conjunto.\n",
    "plt.subplot(223)\n",
    "plt.title('Serie III') # 2 columnas, 2 filas y posición 3.\n",
    "plt.scatter(x3, y3, s=80, color='orange', marker='o')\n",
    "\n",
    "# grafica el cuarto conjunto.\n",
    "plt.subplot(224) # 2 columnas, 2 filas posición 4.\n",
    "plt.title('Serie IV')\n",
    "plt.scatter(x4, y4, s=80, color='green', marker='o')\n",
    "\n",
    "plt.show()\n"
   ]
  },
  {
   "cell_type": "code",
   "execution_count": 14,
   "metadata": {},
   "outputs": [],
   "source": [
    "# Puede ver más referencias sobre creación de gráficos con matplotlib en: \n",
    "# https://www.tutorialspoint.com/matplotlib/index.htm "
   ]
  },
  {
   "cell_type": "markdown",
   "metadata": {},
   "source": [
    "## 5- VISUALIZAR SCATTERPLOT: SOLO UNA SERIE\n",
    "### En este scaterpot graficaremos solo un conjunto de datos, I. "
   ]
  },
  {
   "cell_type": "code",
   "execution_count": 15,
   "metadata": {},
   "outputs": [
    {
     "data": {
      "image/png": "[encoded data removed]",
      "text/plain": [
       "<Figure size 720x432 with 1 Axes>"
      ]
     },
     "metadata": {
      "needs_background": "light"
     },
     "output_type": "display_data"
    }
   ],
   "source": [
    "# ahora probaremos con gráfico de puntos.\n",
    "fig=plt.figure(figsize=(10, 6)) # tamano del gráfico. \n",
    "\n",
    "plt.title(\"El Famoso Cuarteto de Anscombe, solo una serie X1 e Y1\") # título. \n",
    "plt.xlabel(\"Este es el Eje X\") # texto eje X. \n",
    "plt.ylabel(\"Este es el Eje Y\") # texto eje Y. \n",
    "\n",
    "plt.scatter(x=x1, y=y1, color='red') # gráfico de puntos.\n",
    "\n",
    "# guarda el gráfico en la ruta seleccionada.\n",
    "plt.savefig('guardar/b_cuarteto_scatter_simple.jpg')\n",
    "# esta línea muestra el gráfico.\n",
    "plt.show() \n"
   ]
  },
  {
   "cell_type": "markdown",
   "metadata": {},
   "source": [
    "## 6- VISUALIZAR SCATTERPLOT DOS SERIES\n",
    "### En este scaterpot graficaremos dos conjuntos de datos, I y II. Como ejercicio puede incorporar las  series III y IV y adaptar colores y títulos."
   ]
  },
  {
   "cell_type": "code",
   "execution_count": 16,
   "metadata": {},
   "outputs": [
    {
     "data": {
      "image/png": "[encoded data removed]",
      "text/plain": [
       "<Figure size 1152x720 with 1 Axes>"
      ]
     },
     "metadata": {
      "needs_background": "light"
     },
     "output_type": "display_data"
    }
   ],
   "source": [
    "### Datos - - - - - - - - - - - - \n",
    "# guardamos datos en dos variables, grupo I en g1, y grupo II en g2.\n",
    "g1 = (df['I_x'], df['I_y'])\n",
    "g2 = (df['II_x'], df['II_y'])\n",
    "\n",
    "gdatos = (g1, g2) # guardamos esos grupos en la variable datos.\n",
    "gnombres = ('El grupo 1', 'El grupo 2') # guardamos esos grupos en la variable datos.\n",
    "gcolores = ('red', 'dodgerblue')\n",
    "\n",
    "\n",
    "### Crear grafico - - - - - - - - - - - - \n",
    "fig=plt.figure(figsize=(16, 10), facecolor='lightslategray') # tamaño del gráfico. \n",
    "fig.patch.set_facecolor('green') # color del margen.\n",
    "fig.patch.set_alpha(0.2) # transparencia del margen.\n",
    "\n",
    "ax = fig.add_subplot(1, 1, 1) # agregar sub gráficos en el mismo espacio.\n",
    "ax.patch.set_color('aliceblue') # transparencia del gráfico. \n",
    "ax.patch.set_alpha(0.9) # transparencia del gráfico. \n",
    "\n",
    "plt.title(\"El Famoso Cuarteto de Anscombe\") # título. \n",
    "plt.xlabel(\"Este es el Eje X\") # texto eje X. \n",
    "plt.ylabel(\"Este es el Eje Y\") # texto eje Y. \n",
    "plt.grid( color='grey', alpha=0.3) # grilla.\n",
    "\n",
    "# se recorre la info de gdatos, gcolores, gnombres y se guardan en dat, col, gru. \n",
    "for dat, col, gru in zip(gdatos, gcolores, gnombres):\n",
    "    x, y = dat\n",
    "    ax.scatter(x, y, alpha=0.6, c=col, edgecolors='none', s=80, label=gru, marker='o') # puntos.\n",
    "    plt.legend(gnombres) # leyendas.\n",
    "\n",
    "    \n",
    "### Mostrar y guardar gráfico - - - - - - - - - - - -     \n",
    "# guarda el gráfico en la ruta seleccionada.\n",
    "plt.savefig('guardar/c_cuarteto_scatter_series.jpg')\n",
    "# esta linea muestra el gráfico.\n",
    "plt.show() \n"
   ]
  },
  {
   "cell_type": "code",
   "execution_count": null,
   "metadata": {},
   "outputs": [],
   "source": []
  }
 ],
 "metadata": {
  "kernelspec": {
   "display_name": "Python 3",
   "language": "python",
   "name": "python3"
  },
  "language_info": {
   "codemirror_mode": {
    "name": "ipython",
    "version": 3
   },
   "file_extension": ".py",
   "mimetype": "text/x-python",
   "name": "python",
   "nbconvert_exporter": "python",
   "pygments_lexer": "ipython3",
   "version": "3.7.3"
  }
 },
 "nbformat": 4,
 "nbformat_minor": 2
}
