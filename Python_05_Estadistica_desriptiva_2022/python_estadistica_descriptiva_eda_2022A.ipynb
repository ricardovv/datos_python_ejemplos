{
 "cells": [
  {
   "cell_type": "markdown",
   "metadata": {},
   "source": [
    "<div style=\"background:coral; color:white; font-size:32px; padding:60px 20px; text-align:CENTER; font-weight:bold; \">\n",
    "ESTADÍSTICA DESCRIPTIVA CON PYTHON\n",
    "</div>\n",
    "\n",
    "### Prof. Ricardo Vega M. - Escuela de Diseño Universidad Católica de Chile - 2022  \n",
    "\n",
    "* Ejercicio simple para reconocer los principales conceptos de estadistica y algunos de los gráficos mas usados.  \n",
    "* Estos permitan reconocer las características relevantes de una abase de datos,\n"
   ]
  },
  {
   "cell_type": "markdown",
   "metadata": {},
   "source": [
    "<div style=\"background:Coral; color:white; font-size:28px; padding:30px; text-align:left; font-weight:bold; \">\n",
    "1- QUÉ ES ESTADÍSTICA\n",
    "</div>\n"
   ]
  },
  {
   "cell_type": "markdown",
   "metadata": {},
   "source": [
    "### Definición de Estadística:\n",
    "* Describe un conjunto de datos obtenidos para tomar decisiones o realizar generalizaciones acerca de características de las observaciones consideradas.\n",
    "* Usa un conjunto de métodos para obtener, analizar y presentar observaciones numéricas.\n",
    "\n",
    "### Las dos ramas de la Estadística:\n",
    "La estadística se divide en dos grandes áreas, una describe lo dado, la otra busca predecir la ocurrencia de un fenómeno. \n",
    "\n",
    "#### A) Estadística descriptiva: \n",
    "* Se dedica a los métodos de recolección, descripción, visualización y resumen de datos originados a partir de los fenómenos en estudio. Los datos pueden ser resumidos numérica o gráficamente. Usa de medidas de descripción numérica como la media y la desviación estándar. \n",
    "\n",
    "#### B) Estadística Inferencial:  \n",
    "* Busca generalizar modelos, realizar inferencias y predicciones de fenómenos considerando la aleatoriedad e incertidumbre en las observaciones (probabilidad). \n",
    "* Implica generalizaciones y afirmaciones con respecto a la probabilidad de su validez.\n",
    "* Las inferencias pueden ser: respuestas a preguntas si/no (prueba de hipótesis), estimaciones de características numéricas (estimación), pronósticos de futuras observaciones, descripciones de asociación (correlación), o relaciones entre variables (regresión).\n",
    "\n",
    "### Erorres más frecuetnes en Estadística\n",
    "* Datos de muestras no son representativos. \n",
    "* Conclusiones erróneas por datos insuficientes.\n",
    "* Representaciones gráficas engañosas o distorsionadas (escalas). \n",
    "* Ciertas categorías incorrectas.\n",
    "* Respuestas o datos sesgadas.\n"
   ]
  },
  {
   "cell_type": "markdown",
   "metadata": {},
   "source": [
    "<div style=\"background:Coral; color:white; font-size:28px; padding:30px; text-align:left; font-weight:bold; \">\n",
    "2- TIPOS DE DATOS\n",
    "</div>\n"
   ]
  },
  {
   "cell_type": "markdown",
   "metadata": {},
   "source": [
    "## TIPOS DE DATOS\n",
    "Según su naturaleza, los datos pueden ser:\n",
    "### Cualitativos: \n",
    "* Valores asociados a cualidades o atributos, clasificados en categorías. No son valores numéricos. Ej:\n",
    "    * Sexo: f/m.\n",
    "    * Hábito de fumar: Fumador/No fumador\n",
    "    * Estado civil: soltero, casado, divorciado, ...\n",
    "\n",
    "### Cuantitativos: \n",
    "* Valores que pueden cuantificarse o expresarse numéricamente. Ej:\n",
    "    *  Peso, Edad, Estatura: 1,60, 1,70, 180, ... \n",
    "    *  Presión, Humedad, Temperatura: 20, 30, 18, ... \n",
    "    *  Notas de un examen: 4.0, 5.5, 6.8, ... \n",
    "\n",
    "###  Datos discretos: \n",
    "* Datos que no pasan de una clase a la siguiente sin que haya una interrupción, representadas como números enteros. Ej: \n",
    "    * Estudiantes de PhD en una universidad.\n",
    "    * 2 gatos \n",
    "    * 2 líneas de metro  \n",
    "\n",
    "###  Datos continuos: \n",
    "* Datos que pueden pasar de una clase otra siguiente sin interrupción y que pueden expresarse mediante números enteros o fraccionarios. Puede tomar cualquier valor en una escala continua. Ej: \n",
    "    * Cantidad de líquido: 800, 800.5, ... \n",
    "    * Peso: 60.25, 70.2, ... \n",
    "            \n",
    "### Cantidad de variables a observar:  \n",
    "##### Univariantes y Multivariantes\n",
    "* Univariadas o unidimensional: recogen información sobre una característica. Ej: \n",
    "    * edad de alumnos. \n",
    "    * autos vendidos. \n",
    "\n",
    "* Bivariado o bidimensional: recogen información sobre dos características de la población. Ej: \n",
    "    * edad y estatura de alumnos.\n",
    "    * autos vendidos y su marca. \n",
    "    \n",
    "* Multivariados o pluridimensional: recogen información sobre tres ó más características. Ej: \n",
    "    * edad, estatura, y peso de alumnos.\n",
    "    * autos vendidos, su marca, y año. \n",
    "    \n"
   ]
  },
  {
   "cell_type": "markdown",
   "metadata": {},
   "source": [
    "<div style=\"background:Coral; color:white; font-size:28px; padding:30px; text-align:left; font-weight:bold; \">\n",
    "3- MEDIDAS ESTADISTICAS \n",
    "</div>\n"
   ]
  },
  {
   "cell_type": "markdown",
   "metadata": {},
   "source": [
    "<div style=\"background:tan; color:white; font-size:22px; padding:16px; text-align:left; font-weight:bold; \">\n",
    "3.1- Medidas de tendencia central o posición\n",
    "</div>\n",
    "\n",
    "* Son valores que generalmente se ubican en la parte central de un conjunto de datos.\n",
    "* Indica como los datos se condensan en un solo valor central, alrededor del cual los demás datos se distribuyen\n",
    "* Son: \n",
    "    * Media aritmética.\n",
    "    * Mediana.\n",
    "    *  Moda.\n"
   ]
  },
  {
   "cell_type": "markdown",
   "metadata": {},
   "source": [
    "#### Media Aritmética\n",
    "* Suma de todas las observaciones dividida entre el total de observaciones.\n",
    "* Es total de la variable distribuida en partes iguales entre cada observación.\n",
    "* Por ejemplo, si en una habitación hay tres personas, la media es: \n",
    "* Forma de resumir la información de una distribución.\n",
    "* Ventajas\n",
    "    * Es un concepto familiar para la mayoría de las personas.\n",
    "    * Permite la comparación de medias de varios conjuntos de datos.\n",
    "* Desventajas: \n",
    "    * Se ve afectada por valores extremos, perdiendo representatividad.\n",
    "    * No se puede calcular para datos cualitativos. \n",
    "    * \"Si mi vecino tiene dos coches y yo ninguno, los dos tenemos uno”.\n",
    "\n",
    "1, 3, 6, 2, 4, 2, 5  \n",
    "Total= 23  \n",
    "23/7 = 3.28  \n",
    "\n",
    "\n",
    "#### Mediana\n",
    "* Valor que ocupa la posición central de un conjunto de datos, una vez ordenados en forma ascendente o descendente.\n",
    "* Divide al conjunto de datos en dos partes iguales, par o impar\n",
    "Ventajas:\n",
    "    * Fácil de calcular.\n",
    "    * No se ve influida por valores extremos, solo influyen valores centrales.\n",
    "    * Fácil de entender.\n",
    "Desventajas:\n",
    "    * No utiliza en su “cálculo” toda la información disponible.\n",
    "    * No pondera cada valor por el número de veces que se ha repetido.\n",
    "    * Hay que ordenar los datos antes de determinarla.\n",
    "\n",
    "1, 3, 6, 2, 4, 2, 5  \n",
    "1, 2, 2 (3) 4, 5, 6 - ordenados  \n",
    "\n",
    "\n",
    "#### Moda\n",
    "* Observación que tiene la mayor frecuencia en un conjunto de datos.\n",
    "* Un conjunto de datos puede ser unimodal, bimodal o multimodal.\n",
    "* Ventajas:\n",
    "    * No requiere cálculos.\n",
    "    * Puede usarse para datos tanto cuantitativos como cualitativos.\n",
    "    * Fácil de interpretar.\n",
    "    * No se ve influida por valores extremos.\n",
    "* Desventajas:\n",
    "    * Tiene significado en el caso de una gran cantidad de datos.\n",
    "    * No utiliza toda la información disponible.\n",
    "    * No siempre existe, si los datos no se repiten.\n",
    "    * El azar puede hacer que una observación no representativa sea el valor más frecuente. \n",
    "    * Difícil de interpretar si los datos tiene 3 o más modas.\n",
    "\n",
    "1, 3, 6, 2, 4, 2, 5\n",
    "2, 2 (se repite 2 veces)\n",
    "\n"
   ]
  },
  {
   "cell_type": "markdown",
   "metadata": {},
   "source": [
    "<div style=\"background:tan; color:white; font-size:22px; padding:16px; text-align:left; font-weight:bold; \">\n",
    "3.2- Medidas de dispersión, variación o variabilidad\n",
    "</div>\n",
    "\n",
    "* Son valores numéricos que indican o describen la forma en que las observaciones están dispersas respecto al valor central.\n",
    "* Son importantes debido a que dos muestras de observaciones con el mismo valor central pueden tener una variabilidad muy distinta.\n",
    "* Son: \n",
    "    *  Rango.\n",
    "    *  Varianza (no la veremos).\n",
    "    *  Desviación Estándar."
   ]
  },
  {
   "cell_type": "markdown",
   "metadata": {},
   "source": [
    "#### Rango:\n",
    "* Es la diferencia entre el dato mayor y el menor.\n",
    "* Permite conocer la máxima dispersión.\n",
    "* Se emplea poco debido a que depende únicamente de dos valores.\n",
    "* Desventajas:\n",
    "    * No es una medida de Dispersiónn con respecto al centro de la distribución.\n",
    "    * Solo emplea dos valores en su cálculo.\n",
    "\n",
    "1, 3, 6, 2, 4, 2, 5  \n",
    "mayor = 6  \n",
    "menor = 1  \n",
    "rango (mayor - menor) = 5  \n",
    "\n",
    "\n",
    "\n",
    "#### Desviación Estandar: \n",
    "* Es la raíz cuadrada de la varianza. \n",
    "* Permite ver que tan lejos esta un cvalor del centro.\n",
    "Ventajas:\n",
    "* Expresada en las mismas unidades que la variable en estudio.\n",
    "* Utiliza todas las observaciones en su cálculo. \n",
    "* Fácil de interpretar.\n",
    "Desventajas:\n",
    "* No tiene.\n",
    "\n",
    "1, 3, 6, 2, 4, 2, 5  \n",
    "media 3.28\n",
    "1 esta a 2.28 std  \n",
    "6 esta a 2.71 std  \n",
    "\n"
   ]
  },
  {
   "cell_type": "markdown",
   "metadata": {},
   "source": [
    "<div style=\"background:Coral; color:white; font-size:28px; padding:30px; text-align:left; font-weight:bold; \">\n",
    "4- EXPLORANDO DATOS\n",
    "</div>\n"
   ]
  },
  {
   "cell_type": "markdown",
   "metadata": {},
   "source": [
    "<div style=\"background:tan; color:white; font-size:22px; padding:16px; text-align:left; font-weight:bold; \">\n",
    "4.1- Importar librerías, cargar y explorar datos \n",
    "</div>\n",
    "\n",
    "* Usaremos el archivo worldcup2014.csv con datos sobre la copa del mundo del 2014. \n",
    "* Puede rehacer este ejercicio con otros datos presentes en la carpeta de datos del ejercicio para la casa:  \n",
    "    * alumnos.csv: archivo simple con datos de alumnos, su edad, sexo, altura, y peso. \n",
    "    * nations.csv: datos de desarrollo de las naciones unidas. \n",
    "    * athlete_events.csv: desempeño de atletas olímpicos en diferentes años. \n",
    "    "
   ]
  },
  {
   "cell_type": "code",
   "execution_count": 1,
   "metadata": {},
   "outputs": [],
   "source": [
    "## importar libreria Pandas. \n",
    "import pandas as pd\n"
   ]
  },
  {
   "cell_type": "code",
   "execution_count": 2,
   "metadata": {},
   "outputs": [],
   "source": [
    "## cargar datos: pd.read_csv para leer archivos .csv\n",
    "df = pd.read_csv('datos/worldcup2014.csv', sep=',')  \n"
   ]
  },
  {
   "cell_type": "code",
   "execution_count": 6,
   "metadata": {},
   "outputs": [],
   "source": [
    "## muestra la forma general del dataframe: cantidad de filas y columnas.\n",
    "df.shape\n",
    "\n",
    "## un dato en goles_diferencia esta con problemas, hay que pasarlo a int (numeros enteros) \n",
    "df['goles_diferencia'] = pd.to_numeric(df['goles_diferencia'], downcast='integer', errors='coerce')"
   ]
  },
  {
   "cell_type": "code",
   "execution_count": 9,
   "metadata": {},
   "outputs": [],
   "source": [
    "## mostrar el dataframe de los datos.\n",
    "#df \n"
   ]
  },
  {
   "cell_type": "code",
   "execution_count": 10,
   "metadata": {},
   "outputs": [
    {
     "name": "stdout",
     "output_type": "stream",
     "text": [
      "<class 'pandas.core.frame.DataFrame'>\n",
      "RangeIndex: 32 entries, 0 to 31\n",
      "Data columns (total 13 columns):\n",
      " #   Column            Non-Null Count  Dtype  \n",
      "---  ------            --------------  -----  \n",
      " 0   team              32 non-null     object \n",
      " 1   continent         32 non-null     object \n",
      " 2   group             32 non-null     object \n",
      " 3   group_pos         32 non-null     int64  \n",
      " 4   cantidad_juegos   32 non-null     int64  \n",
      " 5   juegos_ganados    32 non-null     int64  \n",
      " 6   juegos_empatados  32 non-null     int64  \n",
      " 7   juegos_perdidos   32 non-null     int64  \n",
      " 8   goles_favor       32 non-null     int64  \n",
      " 9   goles_contra      32 non-null     int64  \n",
      " 10  goles_diferencia  18 non-null     float64\n",
      " 11  puntos            32 non-null     int64  \n",
      " 12  clasificado       32 non-null     int64  \n",
      "dtypes: float64(1), int64(9), object(3)\n",
      "memory usage: 3.4+ KB\n"
     ]
    }
   ],
   "source": [
    "## información general de los datos: tipo de datos, filas, columnas...\n",
    "df.info()\n"
   ]
  },
  {
   "cell_type": "code",
   "execution_count": 11,
   "metadata": {},
   "outputs": [
    {
     "data": {
      "text/html": [
       "<div>\n",
       "<style scoped>\n",
       "    .dataframe tbody tr th:only-of-type {\n",
       "        vertical-align: middle;\n",
       "    }\n",
       "\n",
       "    .dataframe tbody tr th {\n",
       "        vertical-align: top;\n",
       "    }\n",
       "\n",
       "    .dataframe thead th {\n",
       "        text-align: right;\n",
       "    }\n",
       "</style>\n",
       "<table border=\"1\" class=\"dataframe\">\n",
       "  <thead>\n",
       "    <tr style=\"text-align: right;\">\n",
       "      <th></th>\n",
       "      <th>group_pos</th>\n",
       "      <th>cantidad_juegos</th>\n",
       "      <th>juegos_ganados</th>\n",
       "      <th>juegos_empatados</th>\n",
       "      <th>juegos_perdidos</th>\n",
       "      <th>goles_favor</th>\n",
       "      <th>goles_contra</th>\n",
       "      <th>goles_diferencia</th>\n",
       "      <th>puntos</th>\n",
       "      <th>clasificado</th>\n",
       "    </tr>\n",
       "  </thead>\n",
       "  <tbody>\n",
       "    <tr>\n",
       "      <th>count</th>\n",
       "      <td>32.000000</td>\n",
       "      <td>32.0</td>\n",
       "      <td>32.000000</td>\n",
       "      <td>32.000000</td>\n",
       "      <td>32.00000</td>\n",
       "      <td>32.000000</td>\n",
       "      <td>32.000000</td>\n",
       "      <td>18.000000</td>\n",
       "      <td>32.000000</td>\n",
       "      <td>32.000000</td>\n",
       "    </tr>\n",
       "    <tr>\n",
       "      <th>mean</th>\n",
       "      <td>2.500000</td>\n",
       "      <td>3.0</td>\n",
       "      <td>1.218750</td>\n",
       "      <td>0.562500</td>\n",
       "      <td>1.21875</td>\n",
       "      <td>4.250000</td>\n",
       "      <td>4.250000</td>\n",
       "      <td>2.555556</td>\n",
       "      <td>4.218750</td>\n",
       "      <td>0.500000</td>\n",
       "    </tr>\n",
       "    <tr>\n",
       "      <th>std</th>\n",
       "      <td>1.135924</td>\n",
       "      <td>0.0</td>\n",
       "      <td>1.007532</td>\n",
       "      <td>0.564401</td>\n",
       "      <td>0.97499</td>\n",
       "      <td>2.314052</td>\n",
       "      <td>2.228843</td>\n",
       "      <td>2.525685</td>\n",
       "      <td>2.881917</td>\n",
       "      <td>0.508001</td>\n",
       "    </tr>\n",
       "    <tr>\n",
       "      <th>min</th>\n",
       "      <td>1.000000</td>\n",
       "      <td>3.0</td>\n",
       "      <td>0.000000</td>\n",
       "      <td>0.000000</td>\n",
       "      <td>0.00000</td>\n",
       "      <td>1.000000</td>\n",
       "      <td>1.000000</td>\n",
       "      <td>0.000000</td>\n",
       "      <td>0.000000</td>\n",
       "      <td>0.000000</td>\n",
       "    </tr>\n",
       "    <tr>\n",
       "      <th>25%</th>\n",
       "      <td>1.750000</td>\n",
       "      <td>3.0</td>\n",
       "      <td>0.000000</td>\n",
       "      <td>0.000000</td>\n",
       "      <td>0.00000</td>\n",
       "      <td>2.750000</td>\n",
       "      <td>3.000000</td>\n",
       "      <td>0.000000</td>\n",
       "      <td>1.750000</td>\n",
       "      <td>0.000000</td>\n",
       "    </tr>\n",
       "    <tr>\n",
       "      <th>50%</th>\n",
       "      <td>2.500000</td>\n",
       "      <td>3.0</td>\n",
       "      <td>1.000000</td>\n",
       "      <td>1.000000</td>\n",
       "      <td>1.00000</td>\n",
       "      <td>4.000000</td>\n",
       "      <td>4.000000</td>\n",
       "      <td>2.500000</td>\n",
       "      <td>4.000000</td>\n",
       "      <td>0.500000</td>\n",
       "    </tr>\n",
       "    <tr>\n",
       "      <th>75%</th>\n",
       "      <td>3.250000</td>\n",
       "      <td>3.0</td>\n",
       "      <td>2.000000</td>\n",
       "      <td>1.000000</td>\n",
       "      <td>2.00000</td>\n",
       "      <td>6.000000</td>\n",
       "      <td>6.000000</td>\n",
       "      <td>4.500000</td>\n",
       "      <td>7.000000</td>\n",
       "      <td>1.000000</td>\n",
       "    </tr>\n",
       "    <tr>\n",
       "      <th>max</th>\n",
       "      <td>4.000000</td>\n",
       "      <td>3.0</td>\n",
       "      <td>3.000000</td>\n",
       "      <td>2.000000</td>\n",
       "      <td>3.00000</td>\n",
       "      <td>10.000000</td>\n",
       "      <td>9.000000</td>\n",
       "      <td>7.000000</td>\n",
       "      <td>9.000000</td>\n",
       "      <td>1.000000</td>\n",
       "    </tr>\n",
       "  </tbody>\n",
       "</table>\n",
       "</div>"
      ],
      "text/plain": [
       "       group_pos  cantidad_juegos  juegos_ganados  juegos_empatados  \\\n",
       "count  32.000000             32.0       32.000000         32.000000   \n",
       "mean    2.500000              3.0        1.218750          0.562500   \n",
       "std     1.135924              0.0        1.007532          0.564401   \n",
       "min     1.000000              3.0        0.000000          0.000000   \n",
       "25%     1.750000              3.0        0.000000          0.000000   \n",
       "50%     2.500000              3.0        1.000000          1.000000   \n",
       "75%     3.250000              3.0        2.000000          1.000000   \n",
       "max     4.000000              3.0        3.000000          2.000000   \n",
       "\n",
       "       juegos_perdidos  goles_favor  goles_contra  goles_diferencia  \\\n",
       "count         32.00000    32.000000     32.000000         18.000000   \n",
       "mean           1.21875     4.250000      4.250000          2.555556   \n",
       "std            0.97499     2.314052      2.228843          2.525685   \n",
       "min            0.00000     1.000000      1.000000          0.000000   \n",
       "25%            0.00000     2.750000      3.000000          0.000000   \n",
       "50%            1.00000     4.000000      4.000000          2.500000   \n",
       "75%            2.00000     6.000000      6.000000          4.500000   \n",
       "max            3.00000    10.000000      9.000000          7.000000   \n",
       "\n",
       "          puntos  clasificado  \n",
       "count  32.000000    32.000000  \n",
       "mean    4.218750     0.500000  \n",
       "std     2.881917     0.508001  \n",
       "min     0.000000     0.000000  \n",
       "25%     1.750000     0.000000  \n",
       "50%     4.000000     0.500000  \n",
       "75%     7.000000     1.000000  \n",
       "max     9.000000     1.000000  "
      ]
     },
     "execution_count": 11,
     "metadata": {},
     "output_type": "execute_result"
    }
   ],
   "source": [
    "## resúmen estadistico de las columnas: promedio, desviación estandar, valores mínimos y máximos.\n",
    "df.describe()\n"
   ]
  },
  {
   "cell_type": "code",
   "execution_count": 12,
   "metadata": {},
   "outputs": [
    {
     "data": {
      "text/html": [
       "<div>\n",
       "<style scoped>\n",
       "    .dataframe tbody tr th:only-of-type {\n",
       "        vertical-align: middle;\n",
       "    }\n",
       "\n",
       "    .dataframe tbody tr th {\n",
       "        vertical-align: top;\n",
       "    }\n",
       "\n",
       "    .dataframe thead th {\n",
       "        text-align: right;\n",
       "    }\n",
       "</style>\n",
       "<table border=\"1\" class=\"dataframe\">\n",
       "  <thead>\n",
       "    <tr style=\"text-align: right;\">\n",
       "      <th></th>\n",
       "      <th>team</th>\n",
       "      <th>continent</th>\n",
       "      <th>group</th>\n",
       "      <th>group_pos</th>\n",
       "      <th>cantidad_juegos</th>\n",
       "      <th>juegos_ganados</th>\n",
       "      <th>juegos_empatados</th>\n",
       "      <th>juegos_perdidos</th>\n",
       "      <th>goles_favor</th>\n",
       "      <th>goles_contra</th>\n",
       "      <th>goles_diferencia</th>\n",
       "      <th>puntos</th>\n",
       "      <th>clasificado</th>\n",
       "    </tr>\n",
       "  </thead>\n",
       "  <tbody>\n",
       "    <tr>\n",
       "      <th>0</th>\n",
       "      <td>Brazil</td>\n",
       "      <td>southamerica</td>\n",
       "      <td>A</td>\n",
       "      <td>1</td>\n",
       "      <td>3</td>\n",
       "      <td>2</td>\n",
       "      <td>1</td>\n",
       "      <td>0</td>\n",
       "      <td>7</td>\n",
       "      <td>2</td>\n",
       "      <td>5.0</td>\n",
       "      <td>7</td>\n",
       "      <td>1</td>\n",
       "    </tr>\n",
       "    <tr>\n",
       "      <th>1</th>\n",
       "      <td>Mexico</td>\n",
       "      <td>northamerica</td>\n",
       "      <td>A</td>\n",
       "      <td>2</td>\n",
       "      <td>3</td>\n",
       "      <td>2</td>\n",
       "      <td>1</td>\n",
       "      <td>0</td>\n",
       "      <td>4</td>\n",
       "      <td>1</td>\n",
       "      <td>3.0</td>\n",
       "      <td>7</td>\n",
       "      <td>1</td>\n",
       "    </tr>\n",
       "    <tr>\n",
       "      <th>2</th>\n",
       "      <td>Croatia</td>\n",
       "      <td>europe</td>\n",
       "      <td>A</td>\n",
       "      <td>3</td>\n",
       "      <td>3</td>\n",
       "      <td>1</td>\n",
       "      <td>0</td>\n",
       "      <td>2</td>\n",
       "      <td>6</td>\n",
       "      <td>6</td>\n",
       "      <td>0.0</td>\n",
       "      <td>3</td>\n",
       "      <td>0</td>\n",
       "    </tr>\n",
       "    <tr>\n",
       "      <th>3</th>\n",
       "      <td>Cameroon</td>\n",
       "      <td>africa</td>\n",
       "      <td>A</td>\n",
       "      <td>4</td>\n",
       "      <td>3</td>\n",
       "      <td>0</td>\n",
       "      <td>0</td>\n",
       "      <td>3</td>\n",
       "      <td>1</td>\n",
       "      <td>9</td>\n",
       "      <td>NaN</td>\n",
       "      <td>0</td>\n",
       "      <td>0</td>\n",
       "    </tr>\n",
       "    <tr>\n",
       "      <th>4</th>\n",
       "      <td>Netherlands</td>\n",
       "      <td>europe</td>\n",
       "      <td>B</td>\n",
       "      <td>1</td>\n",
       "      <td>3</td>\n",
       "      <td>3</td>\n",
       "      <td>0</td>\n",
       "      <td>0</td>\n",
       "      <td>10</td>\n",
       "      <td>3</td>\n",
       "      <td>7.0</td>\n",
       "      <td>9</td>\n",
       "      <td>1</td>\n",
       "    </tr>\n",
       "  </tbody>\n",
       "</table>\n",
       "</div>"
      ],
      "text/plain": [
       "          team     continent group  group_pos  cantidad_juegos  \\\n",
       "0       Brazil  southamerica     A          1                3   \n",
       "1       Mexico  northamerica     A          2                3   \n",
       "2      Croatia        europe     A          3                3   \n",
       "3     Cameroon        africa     A          4                3   \n",
       "4  Netherlands        europe     B          1                3   \n",
       "\n",
       "   juegos_ganados  juegos_empatados  juegos_perdidos  goles_favor  \\\n",
       "0               2                 1                0            7   \n",
       "1               2                 1                0            4   \n",
       "2               1                 0                2            6   \n",
       "3               0                 0                3            1   \n",
       "4               3                 0                0           10   \n",
       "\n",
       "   goles_contra  goles_diferencia  puntos  clasificado  \n",
       "0             2               5.0       7            1  \n",
       "1             1               3.0       7            1  \n",
       "2             6               0.0       3            0  \n",
       "3             9               NaN       0            0  \n",
       "4             3               7.0       9            1  "
      ]
     },
     "execution_count": 12,
     "metadata": {},
     "output_type": "execute_result"
    }
   ],
   "source": [
    "## primeras 5 filas por defecto.\n",
    "df.head() \n",
    "#df.head(2) \n"
   ]
  },
  {
   "cell_type": "code",
   "execution_count": 13,
   "metadata": {},
   "outputs": [
    {
     "data": {
      "text/html": [
       "<div>\n",
       "<style scoped>\n",
       "    .dataframe tbody tr th:only-of-type {\n",
       "        vertical-align: middle;\n",
       "    }\n",
       "\n",
       "    .dataframe tbody tr th {\n",
       "        vertical-align: top;\n",
       "    }\n",
       "\n",
       "    .dataframe thead th {\n",
       "        text-align: right;\n",
       "    }\n",
       "</style>\n",
       "<table border=\"1\" class=\"dataframe\">\n",
       "  <thead>\n",
       "    <tr style=\"text-align: right;\">\n",
       "      <th></th>\n",
       "      <th>team</th>\n",
       "      <th>continent</th>\n",
       "      <th>group</th>\n",
       "      <th>group_pos</th>\n",
       "      <th>cantidad_juegos</th>\n",
       "      <th>juegos_ganados</th>\n",
       "      <th>juegos_empatados</th>\n",
       "      <th>juegos_perdidos</th>\n",
       "      <th>goles_favor</th>\n",
       "      <th>goles_contra</th>\n",
       "      <th>goles_diferencia</th>\n",
       "      <th>puntos</th>\n",
       "      <th>clasificado</th>\n",
       "    </tr>\n",
       "  </thead>\n",
       "  <tbody>\n",
       "    <tr>\n",
       "      <th>27</th>\n",
       "      <td>Ghana</td>\n",
       "      <td>africa</td>\n",
       "      <td>G</td>\n",
       "      <td>4</td>\n",
       "      <td>3</td>\n",
       "      <td>0</td>\n",
       "      <td>1</td>\n",
       "      <td>2</td>\n",
       "      <td>4</td>\n",
       "      <td>6</td>\n",
       "      <td>NaN</td>\n",
       "      <td>1</td>\n",
       "      <td>0</td>\n",
       "    </tr>\n",
       "    <tr>\n",
       "      <th>28</th>\n",
       "      <td>Belgium</td>\n",
       "      <td>europe</td>\n",
       "      <td>H</td>\n",
       "      <td>1</td>\n",
       "      <td>3</td>\n",
       "      <td>3</td>\n",
       "      <td>0</td>\n",
       "      <td>0</td>\n",
       "      <td>4</td>\n",
       "      <td>1</td>\n",
       "      <td>3.0</td>\n",
       "      <td>9</td>\n",
       "      <td>1</td>\n",
       "    </tr>\n",
       "    <tr>\n",
       "      <th>29</th>\n",
       "      <td>Algeria</td>\n",
       "      <td>africa</td>\n",
       "      <td>H</td>\n",
       "      <td>2</td>\n",
       "      <td>3</td>\n",
       "      <td>1</td>\n",
       "      <td>1</td>\n",
       "      <td>1</td>\n",
       "      <td>6</td>\n",
       "      <td>5</td>\n",
       "      <td>1.0</td>\n",
       "      <td>4</td>\n",
       "      <td>1</td>\n",
       "    </tr>\n",
       "    <tr>\n",
       "      <th>30</th>\n",
       "      <td>Russia</td>\n",
       "      <td>europe</td>\n",
       "      <td>H</td>\n",
       "      <td>3</td>\n",
       "      <td>3</td>\n",
       "      <td>0</td>\n",
       "      <td>2</td>\n",
       "      <td>1</td>\n",
       "      <td>2</td>\n",
       "      <td>3</td>\n",
       "      <td>NaN</td>\n",
       "      <td>2</td>\n",
       "      <td>0</td>\n",
       "    </tr>\n",
       "    <tr>\n",
       "      <th>31</th>\n",
       "      <td>South Korea</td>\n",
       "      <td>asia</td>\n",
       "      <td>H</td>\n",
       "      <td>4</td>\n",
       "      <td>3</td>\n",
       "      <td>0</td>\n",
       "      <td>1</td>\n",
       "      <td>2</td>\n",
       "      <td>3</td>\n",
       "      <td>6</td>\n",
       "      <td>NaN</td>\n",
       "      <td>1</td>\n",
       "      <td>0</td>\n",
       "    </tr>\n",
       "  </tbody>\n",
       "</table>\n",
       "</div>"
      ],
      "text/plain": [
       "           team continent group  group_pos  cantidad_juegos  juegos_ganados  \\\n",
       "27        Ghana    africa     G          4                3               0   \n",
       "28      Belgium    europe     H          1                3               3   \n",
       "29      Algeria    africa     H          2                3               1   \n",
       "30       Russia    europe     H          3                3               0   \n",
       "31  South Korea      asia     H          4                3               0   \n",
       "\n",
       "    juegos_empatados  juegos_perdidos  goles_favor  goles_contra  \\\n",
       "27                 1                2            4             6   \n",
       "28                 0                0            4             1   \n",
       "29                 1                1            6             5   \n",
       "30                 2                1            2             3   \n",
       "31                 1                2            3             6   \n",
       "\n",
       "    goles_diferencia  puntos  clasificado  \n",
       "27               NaN       1            0  \n",
       "28               3.0       9            1  \n",
       "29               1.0       4            1  \n",
       "30               NaN       2            0  \n",
       "31               NaN       1            0  "
      ]
     },
     "execution_count": 13,
     "metadata": {},
     "output_type": "execute_result"
    }
   ],
   "source": [
    "## últimas 5 filas por defecto. \n",
    "#df.tail(2) \n",
    "df.tail()\n"
   ]
  },
  {
   "cell_type": "code",
   "execution_count": 14,
   "metadata": {},
   "outputs": [
    {
     "data": {
      "text/plain": [
       "Index(['team', 'continent', 'group', 'group_pos', 'cantidad_juegos',\n",
       "       'juegos_ganados', 'juegos_empatados', 'juegos_perdidos', 'goles_favor',\n",
       "       'goles_contra', 'goles_diferencia', 'puntos', 'clasificado'],\n",
       "      dtype='object')"
      ]
     },
     "execution_count": 14,
     "metadata": {},
     "output_type": "execute_result"
    }
   ],
   "source": [
    "## columnas del dataframe.\n",
    "cols = df.columns \n",
    "cols"
   ]
  },
  {
   "cell_type": "code",
   "execution_count": 15,
   "metadata": {},
   "outputs": [
    {
     "data": {
      "text/plain": [
       "0     southamerica\n",
       "1     northamerica\n",
       "2           europe\n",
       "3           africa\n",
       "4           europe\n",
       "5     southamerica\n",
       "6           europe\n",
       "7             asia\n",
       "8     southamerica\n",
       "9           europe\n",
       "10          africa\n",
       "11            asia\n",
       "12    northamerica\n",
       "13    southamerica\n",
       "14          europe\n",
       "15          europe\n",
       "16          europe\n",
       "17          europe\n",
       "18    southamerica\n",
       "19    northamerica\n",
       "20    southamerica\n",
       "21          africa\n",
       "22          europe\n",
       "23            asia\n",
       "24          europe\n",
       "25    northamerica\n",
       "26          europe\n",
       "27          africa\n",
       "28          europe\n",
       "29          africa\n",
       "30          europe\n",
       "31            asia\n",
       "Name: continent, dtype: object"
      ]
     },
     "execution_count": 15,
     "metadata": {},
     "output_type": "execute_result"
    }
   ],
   "source": [
    "## selecciona una columna y muestra sus valores.\n",
    "df['continent']\n"
   ]
  },
  {
   "cell_type": "code",
   "execution_count": 16,
   "metadata": {},
   "outputs": [
    {
     "data": {
      "text/plain": [
       "europe          13\n",
       "southamerica     6\n",
       "africa           5\n",
       "northamerica     4\n",
       "asia             4\n",
       "Name: continent, dtype: int64"
      ]
     },
     "execution_count": 16,
     "metadata": {},
     "output_type": "execute_result"
    }
   ],
   "source": [
    "## podemos agrupar por continente\n",
    "df['continent'].value_counts()\n"
   ]
  },
  {
   "cell_type": "markdown",
   "metadata": {},
   "source": [
    "### ¿Qué podemos decir de los datos hasta ahora? O mejor Dicho, ¿Qué tipo de preuntas podemos hacernos sobre los datos? \n",
    "* Son muchos o pocos datos?  \n",
    "* ¿Hay grupos dentro de estos?  \n",
    "* ¿Cuál es el más goleador, o el que ha ganado más partidos?\n",
    "* ¿Qué equipo ha tenido el peor desempeño?  \n",
    "* ¿Qué continente ha tenido el mejor desempeño?  \n"
   ]
  },
  {
   "cell_type": "markdown",
   "metadata": {},
   "source": [
    "<div style=\"background:tan; color:white; font-size:22px; padding:16px; text-align:left; font-weight:bold; \">\n",
    "4.2- Medidas de tendencia central\n",
    "</div>\n",
    "\n",
    "a) Media aritmética.  \n",
    "b) Mediana.  \n",
    "c) Moda.  \n"
   ]
  },
  {
   "cell_type": "code",
   "execution_count": 17,
   "metadata": {},
   "outputs": [
    {
     "data": {
      "text/plain": [
       "group_pos           2.500000\n",
       "cantidad_juegos     3.000000\n",
       "juegos_ganados      1.218750\n",
       "juegos_empatados    0.562500\n",
       "juegos_perdidos     1.218750\n",
       "goles_favor         4.250000\n",
       "goles_contra        4.250000\n",
       "goles_diferencia    2.555556\n",
       "puntos              4.218750\n",
       "clasificado         0.500000\n",
       "dtype: float64"
      ]
     },
     "execution_count": 17,
     "metadata": {},
     "output_type": "execute_result"
    }
   ],
   "source": [
    "## a- Media aritmética.\n",
    "df.mean()\n",
    "\n",
    "## Veamos el promedi de los juegos ganados. Luego puede porbar con otra coluna numerica. \n",
    "#df['juegos_ganados'].mean()\n",
    "\n",
    "## Lo podemos ver total juegos ganados por continente \n",
    "#df.groupby('continent').juegos_ganados.sum()\n",
    "\n",
    "## Promedio total juegos ganados por continente\n",
    "#df.groupby('continent').juegos_ganados.mean()\n"
   ]
  },
  {
   "cell_type": "code",
   "execution_count": 18,
   "metadata": {},
   "outputs": [
    {
     "data": {
      "text/plain": [
       "group_pos           2.5\n",
       "cantidad_juegos     3.0\n",
       "juegos_ganados      1.0\n",
       "juegos_empatados    1.0\n",
       "juegos_perdidos     1.0\n",
       "goles_favor         4.0\n",
       "goles_contra        4.0\n",
       "goles_diferencia    2.5\n",
       "puntos              4.0\n",
       "clasificado         0.5\n",
       "dtype: float64"
      ]
     },
     "execution_count": 18,
     "metadata": {},
     "output_type": "execute_result"
    }
   ],
   "source": [
    "## b- Mediana.\n",
    "df.median()\n"
   ]
  },
  {
   "cell_type": "code",
   "execution_count": 19,
   "metadata": {},
   "outputs": [
    {
     "data": {
      "text/html": [
       "<div>\n",
       "<style scoped>\n",
       "    .dataframe tbody tr th:only-of-type {\n",
       "        vertical-align: middle;\n",
       "    }\n",
       "\n",
       "    .dataframe tbody tr th {\n",
       "        vertical-align: top;\n",
       "    }\n",
       "\n",
       "    .dataframe thead th {\n",
       "        text-align: right;\n",
       "    }\n",
       "</style>\n",
       "<table border=\"1\" class=\"dataframe\">\n",
       "  <thead>\n",
       "    <tr style=\"text-align: right;\">\n",
       "      <th></th>\n",
       "      <th>group_pos</th>\n",
       "      <th>cantidad_juegos</th>\n",
       "      <th>juegos_ganados</th>\n",
       "      <th>juegos_empatados</th>\n",
       "      <th>juegos_perdidos</th>\n",
       "      <th>goles_favor</th>\n",
       "      <th>goles_contra</th>\n",
       "      <th>goles_diferencia</th>\n",
       "      <th>puntos</th>\n",
       "      <th>clasificado</th>\n",
       "    </tr>\n",
       "  </thead>\n",
       "  <tbody>\n",
       "    <tr>\n",
       "      <th>0</th>\n",
       "      <td>1</td>\n",
       "      <td>3.0</td>\n",
       "      <td>1.0</td>\n",
       "      <td>1.0</td>\n",
       "      <td>1.0</td>\n",
       "      <td>4.0</td>\n",
       "      <td>3.0</td>\n",
       "      <td>0.0</td>\n",
       "      <td>4.0</td>\n",
       "      <td>0.0</td>\n",
       "    </tr>\n",
       "    <tr>\n",
       "      <th>1</th>\n",
       "      <td>2</td>\n",
       "      <td>NaN</td>\n",
       "      <td>NaN</td>\n",
       "      <td>NaN</td>\n",
       "      <td>2.0</td>\n",
       "      <td>NaN</td>\n",
       "      <td>NaN</td>\n",
       "      <td>NaN</td>\n",
       "      <td>NaN</td>\n",
       "      <td>1.0</td>\n",
       "    </tr>\n",
       "    <tr>\n",
       "      <th>2</th>\n",
       "      <td>3</td>\n",
       "      <td>NaN</td>\n",
       "      <td>NaN</td>\n",
       "      <td>NaN</td>\n",
       "      <td>NaN</td>\n",
       "      <td>NaN</td>\n",
       "      <td>NaN</td>\n",
       "      <td>NaN</td>\n",
       "      <td>NaN</td>\n",
       "      <td>NaN</td>\n",
       "    </tr>\n",
       "    <tr>\n",
       "      <th>3</th>\n",
       "      <td>4</td>\n",
       "      <td>NaN</td>\n",
       "      <td>NaN</td>\n",
       "      <td>NaN</td>\n",
       "      <td>NaN</td>\n",
       "      <td>NaN</td>\n",
       "      <td>NaN</td>\n",
       "      <td>NaN</td>\n",
       "      <td>NaN</td>\n",
       "      <td>NaN</td>\n",
       "    </tr>\n",
       "  </tbody>\n",
       "</table>\n",
       "</div>"
      ],
      "text/plain": [
       "   group_pos  cantidad_juegos  juegos_ganados  juegos_empatados  \\\n",
       "0          1              3.0             1.0               1.0   \n",
       "1          2              NaN             NaN               NaN   \n",
       "2          3              NaN             NaN               NaN   \n",
       "3          4              NaN             NaN               NaN   \n",
       "\n",
       "   juegos_perdidos  goles_favor  goles_contra  goles_diferencia  puntos  \\\n",
       "0              1.0          4.0           3.0               0.0     4.0   \n",
       "1              2.0          NaN           NaN               NaN     NaN   \n",
       "2              NaN          NaN           NaN               NaN     NaN   \n",
       "3              NaN          NaN           NaN               NaN     NaN   \n",
       "\n",
       "   clasificado  \n",
       "0          0.0  \n",
       "1          1.0  \n",
       "2          NaN  \n",
       "3          NaN  "
      ]
     },
     "execution_count": 19,
     "metadata": {},
     "output_type": "execute_result"
    }
   ],
   "source": [
    "## c- Moda.\n",
    "df.mode(dropna=True, numeric_only=True)\n"
   ]
  },
  {
   "cell_type": "markdown",
   "metadata": {},
   "source": [
    "<div style=\"background:tan; color:white; font-size:22px; padding:16px; text-align:left; font-weight:bold; \">\n",
    "4.3- Medidas de dispersión, variación o variabilidad.\n",
    "</div>\n",
    "\n",
    "a) Rango.  \n",
    "b) Desviación Estándar.  \n"
   ]
  },
  {
   "cell_type": "code",
   "execution_count": 20,
   "metadata": {},
   "outputs": [
    {
     "data": {
      "text/plain": [
       "3"
      ]
     },
     "execution_count": 20,
     "metadata": {},
     "output_type": "execute_result"
    }
   ],
   "source": [
    "## a- Rango\n",
    "#df.max(numeric_only=True)\n",
    "#df.min(numeric_only=True)\n",
    "\n",
    "## Rango de variable juegos ganados. \n",
    "df['juegos_ganados'].max() - df['juegos_ganados'].min()  \n"
   ]
  },
  {
   "cell_type": "code",
   "execution_count": 21,
   "metadata": {},
   "outputs": [
    {
     "data": {
      "text/plain": [
       "group_pos           1.135924\n",
       "cantidad_juegos     0.000000\n",
       "juegos_ganados      1.007532\n",
       "juegos_empatados    0.564401\n",
       "juegos_perdidos     0.974990\n",
       "goles_favor         2.314052\n",
       "goles_contra        2.228843\n",
       "goles_diferencia    2.525685\n",
       "puntos              2.881917\n",
       "clasificado         0.508001\n",
       "dtype: float64"
      ]
     },
     "execution_count": 21,
     "metadata": {},
     "output_type": "execute_result"
    }
   ],
   "source": [
    "## b- Desviacion Estandar\n",
    "df.std()\n"
   ]
  },
  {
   "cell_type": "markdown",
   "metadata": {},
   "source": [
    "* Puede probar sacando las descriptivas para cada columna\n",
    "    * cantidad_juegos\n",
    "    * juegos_ganados\n",
    "    * juegos_empatados\n",
    "    * juegos_perdidos\n",
    "    * goles_favor\n",
    "    * goles_contra\n",
    "    * goles_diferencia\n",
    "    * puntos\n",
    "    "
   ]
  },
  {
   "cell_type": "markdown",
   "metadata": {},
   "source": [
    "<div style=\"background:Coral; color:white; font-size:28px; padding:30px; text-align:left; font-weight:bold; \">\n",
    "5- Graficando algunas variables\n",
    "</div>\n",
    "\n",
    "## Para trabajar con gráficos, existen muchas librerías para Python, las más conocidas:  \n",
    "\n",
    "* Matplotlib - una de las más usadas, simple y comppleta, muchas otras se basan en esta.  \n",
    "    * https://matplotlib.org/\n",
    "\n",
    "* Seaborn - basada en MAtplotlib, con mejoras que la hacen más simple\n",
    "    * https://seaborn.pydata.org/\n",
    "\n",
    "* Bokeh - posee elementos de interaccion y es poible de ser usada en la web.\n",
    "    * https://bokeh.org/ \n",
    "\n",
    "* Geoplotlib / Principalmente orientada a mapas y sistemas de información geográfica,  \n",
    "    * https://github.com/andrea-cuttone/geoplotlib\n",
    "\n",
    "* Networkx - especializada en redes. \n",
    "    *  https://networkx.org/\n",
    "        \n",
    "\n",
    "## Puede ver más referencias sobre creación de gráficos con matplotlib en: \n",
    "* https://www.tutorialspoint.com/matplotlib/index.htm \n",
    "\n",
    "## Los gráficos a ver: \n",
    "* histogtama (1 variable)\n",
    "* scatter (2 cvariables)\n",
    "* barras\n",
    "* torta\n",
    "* heatmap\n",
    "\n",
    "## Variable a explorar: \n",
    "* Exploraremos la variable goles_favor\n",
    "* Como ejercicio, luego puede hacer gráficos para algunas de estas variables.\n",
    "    * cantidad_juegos\n",
    "    * juegos_ganados\n",
    "    * juegos_empatados\n",
    "    * juegos_perdidos\n",
    "    * goles_favor\n",
    "    * goles_contra\n",
    "    * goles_diferencia\n",
    "    * puntos\n",
    "\n",
    "\n"
   ]
  },
  {
   "cell_type": "code",
   "execution_count": 22,
   "metadata": {},
   "outputs": [],
   "source": [
    "# importar librería visualización.\n",
    "# importar librería matplotlib.pyplot con el nombre plt\n",
    "import matplotlib.pyplot as plt\n"
   ]
  },
  {
   "cell_type": "code",
   "execution_count": 24,
   "metadata": {},
   "outputs": [],
   "source": [
    "## inspeccionar df nuevamente\n",
    "#df\n"
   ]
  },
  {
   "cell_type": "markdown",
   "metadata": {},
   "source": [
    "<div style=\"background:tan; color:white; font-size:22px; padding:16px; text-align:left; font-weight:bold; \">\n",
    "5.1- Barras\n",
    "</div>\n",
    "    \n",
    "* En este scaterpot graficaremos una variable. "
   ]
  },
  {
   "cell_type": "code",
   "execution_count": 25,
   "metadata": {},
   "outputs": [
    {
     "data": {
      "image/png": "[encoded data removed]",
      "text/plain": [
       "<Figure size 432x288 with 1 Axes>"
      ]
     },
     "metadata": {
      "needs_background": "light"
     },
     "output_type": "display_data"
    }
   ],
   "source": [
    "## mostrar valores de una columnas\n",
    "x1 = df['team'] # en x1 la variable independiente\n",
    "y1 = df['goles_favor'] # en y1 guardaremos la variable dependiente\n",
    "\n",
    "#plt.figure(figsize=(14,10))\n",
    "plt.bar(x=x1, height=y1)  \n",
    "\n",
    "plt.show() # por defecto Jupyter muesta el grafico, en otros entornos hay que colocar plt.show()\n"
   ]
  },
  {
   "cell_type": "code",
   "execution_count": 31,
   "metadata": {},
   "outputs": [
    {
     "data": {
      "text/plain": [
       "<BarContainer object of 32 artists>"
      ]
     },
     "execution_count": 31,
     "metadata": {},
     "output_type": "execute_result"
    },
    {
     "data": {
      "image/png": "[encoded data removed]",
      "text/plain": [
       "<Figure size 1008x720 with 1 Axes>"
      ]
     },
     "metadata": {
      "needs_background": "light"
     },
     "output_type": "display_data"
    }
   ],
   "source": [
    "## version mejorada\n",
    "## pueden consultar esta referencia - https://www.tutorialspoint.com/matplotlib/matplotlib_bar_plot.htm\n",
    "## colores - https://matplotlib.org/stable/gallery/color/named_colors.html\n",
    "\n",
    "plt.figure(figsize=(14,10))\n",
    "plt.grid( b = True, color ='grey',linestyle ='-.', linewidth = 0.5, alpha = 0.9)    \n",
    "plt.xlabel( \"PAISES\", color='blue')\n",
    "plt.ylabel( 'GOLES A FAVOR', color='blue')\n",
    "plt.xticks(rotation='vertical')\n",
    "\n",
    "## puede ser vertical\n",
    "# plt.axhline( y1.mean(), color='RED',lw=6, linestyle='--' )\n",
    "# plt.bar(x=x1, height=y1, color='green')  \n",
    "\n",
    "## puede ser horizontal\n",
    "plt.axvline( y1.mean(), color='tomato',lw=2, linestyle='--' )\n",
    "plt.barh(y=x1, width=y1, color='palegreen')  \n",
    "\n",
    "## guarda el gráfico en la ruta selecionada.\n",
    "#plt.savefig('guardar/a_worldcup_barra.jpg') # pdf, png, otros\n",
    "\n",
    "## muestra el gráfico.\n",
    "#plt.show()\n"
   ]
  },
  {
   "cell_type": "markdown",
   "metadata": {},
   "source": [
    "<div style=\"background:tan; color:white; font-size:22px; padding:16px; text-align:left; font-weight:bold; \">\n",
    "5.2- Scatterplot una serie\n",
    "</div>\n",
    "    \n",
    "* En este scaterpot graficaremos una variables o serie. \n",
    "* Usted puede probar agregando títulos, cambiando colores, tamaños, guardando el gráfico, etc.\n",
    "* Marcadores de puntos - https://matplotlib.org/stable/api/markers_api.html\n"
   ]
  },
  {
   "cell_type": "code",
   "execution_count": 90,
   "metadata": {},
   "outputs": [
    {
     "data": {
      "text/plain": [
       "<matplotlib.collections.PathCollection at 0x12038ddd8>"
      ]
     },
     "execution_count": 90,
     "metadata": {},
     "output_type": "execute_result"
    },
    {
     "data": {
      "image/png": "[encoded data removed]",
      "text/plain": [
       "<Figure size 432x288 with 1 Axes>"
      ]
     },
     "metadata": {
      "needs_background": "light"
     },
     "output_type": "display_data"
    }
   ],
   "source": [
    "x1 = df['team'] # en x1 la variable dependiente\n",
    "y1 = df['goles_favor'] # en y1 guardaremos la variable dependiente\n",
    "\n",
    "#plt.figure(figsize=(14,10))\n",
    "plt.scatter(x=x1, y=y1, color='red') # gráfico de puntos.\n"
   ]
  },
  {
   "cell_type": "markdown",
   "metadata": {},
   "source": [
    "<div style=\"background:tan; color:white; font-size:22px; padding:16px; text-align:left; font-weight:bold; \">\n",
    "5.3- Scatterplot dos series\n",
    "</div>\n",
    "    \n",
    "* En este scaterpot graficaremos dos variables o series. \n",
    "* El gráfico esta horrible, puede ajustarlos colores y otros parámetros. "
   ]
  },
  {
   "cell_type": "code",
   "execution_count": 97,
   "metadata": {},
   "outputs": [
    {
     "data": {
      "image/png": "[encoded data removed]",
      "text/plain": [
       "<Figure size 1296x720 with 1 Axes>"
      ]
     },
     "metadata": {},
     "output_type": "display_data"
    }
   ],
   "source": [
    "## colores - https://matplotlib.org/stable/gallery/color/named_colors.html\n",
    "\n",
    "## Datos - guardar datos en dos variables \n",
    "d1 = (df['team'], df['goles_favor'])\n",
    "d2 = (df['team'], df['goles_contra'])\n",
    "\n",
    "sdatos = (d1, d2) # guardamos esos grupos en la variable datos.\n",
    "snombres = ('Goles a favor', 'Goles en contra') # guardamos esos grupos en la variable datos.\n",
    "scolores = ('red', 'dodgerblue') #\n",
    "\n",
    "\n",
    "### Crear grafico - - - - - - - - - - - -  \n",
    "fig=plt.figure(figsize=(18, 10) ) # tamaño del gráfico. \n",
    "fig.patch.set_facecolor('green') # color del margen.\n",
    "fig.patch.set_alpha(0.9) # transparencia del margen.\n",
    "\n",
    "ax = fig.add_subplot(1, 1, 1) # sub gráficos en el mismo espacio.\n",
    "ax.patch.set_color('fuchsia') # transparencia del gráfico. \n",
    "ax.patch.set_alpha(0.9) # transparencia del gráfico. \n",
    "\n",
    "\n",
    "## Titulos y colores - - - - - - - - - - - -   \n",
    "plt.title(\"Relación Goles Favor - Goles Contra'\") # título. \n",
    "plt.xticks(rotation=0)\n",
    "plt.xlabel(\"Equipos\") # texto eje X. \n",
    "plt.ylabel(\"Goles\") # texto eje Y. \n",
    "plt.grid( color='blue', alpha=0.9) # grilla.\n",
    "\n",
    "## Ciclo recorre sdatos, scolores, snombres y se guardan en dat, col, gru. \n",
    "for dat, col, gru in zip(sdatos, scolores, snombres):\n",
    "    x, y = dat\n",
    "    ax.scatter(x, y, alpha=0.6, c=col, edgecolors='none', s=180, label=gru, marker='D') # puntos.\n",
    "    plt.legend(snombres) # leyendas.\n",
    " \n",
    "## Mostrar y guardar gráfico - - - - - - - - - - - -  \n",
    "# guarda el gráfico en la ruta seleccionada.\n",
    "plt.savefig('guardar/c_cuarteto_scatter_series.jpg')\n",
    "# esta linea muestra el gráfico.\n",
    "plt.show() \n"
   ]
  },
  {
   "cell_type": "markdown",
   "metadata": {},
   "source": [
    "<div style=\"background:tan; color:white; font-size:22px; padding:16px; text-align:left; font-weight:bold; \">\n",
    "5.4- Torta\n",
    "</div>\n",
    "    \n",
    "* Gráfico de torta, grafica distribución de valores. \n"
   ]
  },
  {
   "cell_type": "code",
   "execution_count": 101,
   "metadata": {
    "scrolled": false
   },
   "outputs": [
    {
     "data": {
      "image/png": "[encoded data removed]",
      "text/plain": [
       "<Figure size 576x576 with 1 Axes>"
      ]
     },
     "metadata": {},
     "output_type": "display_data"
    }
   ],
   "source": [
    "## Datos\n",
    "continentes   = ['europe','southamerica','africa','northamerica','asia']\n",
    "cuantospaises = [13, 6, 5, 4, 4]\n",
    "        \n",
    "## hacer la torta\n",
    "fig = plt.figure(figsize =(8, 8)) \n",
    "ax = fig.add_axes([0,0,1,1])\n",
    "ax.axis('equal')\n",
    "ax.pie(cuantospaises, labels = continentes)\n",
    "plt.show()\n"
   ]
  },
  {
   "cell_type": "code",
   "execution_count": null,
   "metadata": {},
   "outputs": [],
   "source": []
  }
 ],
 "metadata": {
  "kernelspec": {
   "display_name": "Python 3",
   "language": "python",
   "name": "python3"
  },
  "language_info": {
   "codemirror_mode": {
    "name": "ipython",
    "version": 3
   },
   "file_extension": ".py",
   "mimetype": "text/x-python",
   "name": "python",
   "nbconvert_exporter": "python",
   "pygments_lexer": "ipython3",
   "version": "3.7.3"
  }
 },
 "nbformat": 4,
 "nbformat_minor": 2
}
