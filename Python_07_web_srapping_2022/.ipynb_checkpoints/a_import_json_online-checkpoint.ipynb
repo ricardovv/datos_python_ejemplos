{
 "cells": [
  {
   "cell_type": "markdown",
   "metadata": {},
   "source": [
    "## Captura de datos:  \n",
    "\n",
    "# A- IMPORTAR ARCHIVO JSON ONLINE\n",
    "\n",
    "### Prof. Ricardo Vega M. - Escuela de Diseño Universidad Católica de Chile - 2022\n",
    "\n",
    "Un archivo JSON puede contener datos de diverso tipo. Puede estar de manera local en nuestro computador, o disponible en la web. \n",
    "\n",
    "Para este ejemplo consultaremos la api de https://c80.cl de donde obtendremos un archivo JSONcon la Constitución de 1980, en este caso el articulo 26.\n",
    "\n",
    "Ver más en: https://issuu.com/ricardov_net/docs/datos_obtencion_scraping_2022\n",
    " "
   ]
  },
  {
   "cell_type": "code",
   "execution_count": 21,
   "metadata": {},
   "outputs": [],
   "source": [
    "### importar librerias\n",
    "\n",
    "import requests\n",
    "import json\n"
   ]
  },
  {
   "cell_type": "code",
   "execution_count": 22,
   "metadata": {},
   "outputs": [
    {
     "name": "stdout",
     "output_type": "stream",
     "text": [
      "{\n",
      "    \"title\": \"Art\\u00edculo 26\",\n",
      "    \"contenido\": [\n",
      "        [\n",
      "            \"El Presidente de la Rep\\u00fablica ser\\u00e1 elegido en votaci\\u00f3n directa y por mayor\\u00eda absoluta de los sufragios v\\u00e1lidamente emitidos. \\r\\n\",\n",
      "            \"La elecci\\u00f3n se efectuar\\u00e1 conjuntamente con la de parlamentarios, en la forma que determine la ley org\\u00e1nica constitucional respectiva, el tercer domingo de noviembre del a\\u00f1o anterior a aquel en que deba cesar en el cargo el que est\\u00e9 en funciones.\",\n",
      "            \"Si a la elecci\\u00f3n de Presidente de la Rep\\u00fablica se presentaren m\\u00e1s de dos candidatos y ninguno de ellos obtuviere m\\u00e1s de la mitad de los sufragios v\\u00e1lidamente emitidos, se proceder\\u00e1 a una segunda votaci\\u00f3n que se circunscribir\\u00e1 a los candidatos que hayan obtenido las dos m\\u00e1s altas mayor\\u00edas relativas y en ella resultar\\u00e1 electo aqu\\u00e9l de los candidatos que obtenga el mayor n\\u00famero de sufragios. Esta nueva votaci\\u00f3n se verificar\\u00e1, en la forma que determine la ley, el cuarto domingo despu\\u00e9s de efectuada la primera.\",\n",
      "            \"Para los efectos de lo dispuesto en los dos incisos precedentes, los votos en blanco y los nulos se considerar\\u00e1n como no emitidos. En caso de muerte de uno o de ambos candidatos a que se refiere el inciso segundo, el Presidente de la Rep\\u00fablica convocar\\u00e1 a una nueva elecci\\u00f3n dentro del plazo de diez d\\u00edas, contado desde la fecha del deceso. La elecci\\u00f3n se celebrar\\u00e1 noventa d\\u00edas despu\\u00e9s de la convocatoria si ese d\\u00eda correspondiere a un domingo. Si as\\u00ed no fuere, ella se realizar\\u00e1 el domingo inmediatamente siguiente.\",\n",
      "            \"Si expirase el mandato del Presidente de la Rep\\u00fablica en ejercicio antes de la fecha de asunci\\u00f3n del Presidente que se elija en conformidad al inciso anterior, se aplicar\\u00e1, en lo pertinente, la norma contenida en el inciso primero del art\\u00edculo 28.\"\n",
      "        ]\n",
      "    ]\n",
      "}\n"
     ]
    }
   ],
   "source": [
    "## Conectarse a una API de datos en formato JSON\n",
    "## Visitar el link para ver la estructura de los datos y los puntos que interesa obtener (endpoints)\n",
    "## Puede obtener diferentes textos cambiando el numero al final de la url \n",
    "r = requests.get(\"https://c80.cl/wp-json/constitucion1980/v1/articulo/26\")\n",
    "\n",
    "## Rescatar el texto en formato JSON \n",
    "res = r.json()\n",
    "\n",
    "## Mostrar en formato json obtenido desde la web\n",
    "## ojo puede demorarse un poco\n",
    "print(json.dumps(res, indent = 4))\n"
   ]
  },
  {
   "cell_type": "code",
   "execution_count": 11,
   "metadata": {},
   "outputs": [
    {
     "name": "stdout",
     "output_type": "stream",
     "text": [
      "Si a la elección de Presidente de la República se presentaren más de dos candidatos y ninguno de ellos obtuviere más de la mitad de los sufragios válidamente emitidos, se procederá a una segunda votación que se circunscribirá a los candidatos que hayan obtenido las dos más altas mayorías relativas y en ella resultará electo aquél de los candidatos que obtenga el mayor número de sufragios. Esta nueva votación se verificará, en la forma que determine la ley, el cuarto domingo después de efectuada la primera.\n"
     ]
    }
   ],
   "source": [
    "## Extraer contenidos de la ruta del archivo \n",
    "txt = res['contenido'][0][2]  ## probar cambando el segundo valor entre []\n",
    "\n",
    "## Mostrar el texto resultante\n",
    "print( txt )\n"
   ]
  },
  {
   "cell_type": "code",
   "execution_count": 13,
   "metadata": {},
   "outputs": [
    {
     "name": "stdout",
     "output_type": "stream",
     "text": [
      "5\n"
     ]
    }
   ],
   "source": [
    "## Extraer varios contenidos \n",
    "## Cuantos elementos tiene este articulo\n",
    "cuantos = len(res['contenido'][0])  \n",
    "\n",
    "## Mostrar cuantos son\n",
    "print(cuantos)\n"
   ]
  },
  {
   "cell_type": "code",
   "execution_count": 14,
   "metadata": {},
   "outputs": [
    {
     "name": "stdout",
     "output_type": "stream",
     "text": [
      "El Presidente de la República será elegido en votación directa y por mayoría absoluta de los sufragios válidamente emitidos. \r\n",
      " \n",
      "\n",
      "La elección se efectuará conjuntamente con la de parlamentarios, en la forma que determine la ley orgánica constitucional respectiva, el tercer domingo de noviembre del año anterior a aquel en que deba cesar en el cargo el que esté en funciones. \n",
      "\n",
      "Si a la elección de Presidente de la República se presentaren más de dos candidatos y ninguno de ellos obtuviere más de la mitad de los sufragios válidamente emitidos, se procederá a una segunda votación que se circunscribirá a los candidatos que hayan obtenido las dos más altas mayorías relativas y en ella resultará electo aquél de los candidatos que obtenga el mayor número de sufragios. Esta nueva votación se verificará, en la forma que determine la ley, el cuarto domingo después de efectuada la primera. \n",
      "\n",
      "Para los efectos de lo dispuesto en los dos incisos precedentes, los votos en blanco y los nulos se considerarán como no emitidos. En caso de muerte de uno o de ambos candidatos a que se refiere el inciso segundo, el Presidente de la República convocará a una nueva elección dentro del plazo de diez días, contado desde la fecha del deceso. La elección se celebrará noventa días después de la convocatoria si ese día correspondiere a un domingo. Si así no fuere, ella se realizará el domingo inmediatamente siguiente. \n",
      "\n",
      "Si expirase el mandato del Presidente de la República en ejercicio antes de la fecha de asunción del Presidente que se elija en conformidad al inciso anterior, se aplicará, en lo pertinente, la norma contenida en el inciso primero del artículo 28. \n",
      "\n"
     ]
    }
   ],
   "source": [
    "## Mostrar todoslos elementos\n",
    "## Reccorrer los elementos con un ciclo for\n",
    "for i in range( cuantos ):\n",
    "    pass\n",
    "    print( res['contenido'][0][i], '\\n')\n"
   ]
  },
  {
   "cell_type": "code",
   "execution_count": 17,
   "metadata": {},
   "outputs": [
    {
     "name": "stdout",
     "output_type": "stream",
     "text": [
      "['El Presidente de la República será elegido en votación directa y por mayoría absoluta de los sufragios válidamente emitidos. \\r\\n', 'La elección se efectuará conjuntamente con la de parlamentarios, en la forma que determine la ley orgánica constitucional respectiva, el tercer domingo de noviembre del año anterior a aquel en que deba cesar en el cargo el que esté en funciones.', 'Si a la elección de Presidente de la República se presentaren más de dos candidatos y ninguno de ellos obtuviere más de la mitad de los sufragios válidamente emitidos, se procederá a una segunda votación que se circunscribirá a los candidatos que hayan obtenido las dos más altas mayorías relativas y en ella resultará electo aquél de los candidatos que obtenga el mayor número de sufragios. Esta nueva votación se verificará, en la forma que determine la ley, el cuarto domingo después de efectuada la primera.', 'Para los efectos de lo dispuesto en los dos incisos precedentes, los votos en blanco y los nulos se considerarán como no emitidos. En caso de muerte de uno o de ambos candidatos a que se refiere el inciso segundo, el Presidente de la República convocará a una nueva elección dentro del plazo de diez días, contado desde la fecha del deceso. La elección se celebrará noventa días después de la convocatoria si ese día correspondiere a un domingo. Si así no fuere, ella se realizará el domingo inmediatamente siguiente.', 'Si expirase el mandato del Presidente de la República en ejercicio antes de la fecha de asunción del Presidente que se elija en conformidad al inciso anterior, se aplicará, en lo pertinente, la norma contenida en el inciso primero del artículo 28.']\n"
     ]
    }
   ],
   "source": [
    "## Se guardaran los valores agregando los elementos a una lista\n",
    "\n",
    "## Creamos una lista vacia\n",
    "eltexto = []\n",
    "\n",
    "## Recorremos el articulo y rescatamos sus parrafos\n",
    "for i in range( cuantos ):\n",
    "    t = res['contenido'][0][i] # guadamos los elementos uno a uno en esta variable\n",
    "    eltexto.append( t ) # esta variable se guarda en la lista\n",
    "\n",
    "    \n",
    "## mostrar toda la lista con los elementos, que estan sepaados por una coma, asi:\n",
    "## ['Elemento1', 'Elemento2', 'Elemento3'... ]\n",
    "print( eltexto ) \n"
   ]
  },
  {
   "cell_type": "code",
   "execution_count": 19,
   "metadata": {},
   "outputs": [
    {
     "name": "stdout",
     "output_type": "stream",
     "text": [
      "0 El Presidente de la República será elegido en votación directa y por mayoría absoluta de los sufragios válidamente emitidos. \r\n",
      "\n",
      "1 La elección se efectuará conjuntamente con la de parlamentarios, en la forma que determine la ley orgánica constitucional respectiva, el tercer domingo de noviembre del año anterior a aquel en que deba cesar en el cargo el que esté en funciones.\n",
      "2 Si a la elección de Presidente de la República se presentaren más de dos candidatos y ninguno de ellos obtuviere más de la mitad de los sufragios válidamente emitidos, se procederá a una segunda votación que se circunscribirá a los candidatos que hayan obtenido las dos más altas mayorías relativas y en ella resultará electo aquél de los candidatos que obtenga el mayor número de sufragios. Esta nueva votación se verificará, en la forma que determine la ley, el cuarto domingo después de efectuada la primera.\n",
      "3 Para los efectos de lo dispuesto en los dos incisos precedentes, los votos en blanco y los nulos se considerarán como no emitidos. En caso de muerte de uno o de ambos candidatos a que se refiere el inciso segundo, el Presidente de la República convocará a una nueva elección dentro del plazo de diez días, contado desde la fecha del deceso. La elección se celebrará noventa días después de la convocatoria si ese día correspondiere a un domingo. Si así no fuere, ella se realizará el domingo inmediatamente siguiente.\n",
      "4 Si expirase el mandato del Presidente de la República en ejercicio antes de la fecha de asunción del Presidente que se elija en conformidad al inciso anterior, se aplicará, en lo pertinente, la norma contenida en el inciso primero del artículo 28.\n"
     ]
    }
   ],
   "source": [
    "## Para verificar recorremos la lista de elementos guardados en la variable eltexto\n",
    "for i in range( len(eltexto) ):\n",
    "    print(i, eltexto[i])\n",
    "    "
   ]
  },
  {
   "cell_type": "markdown",
   "metadata": {},
   "source": [
    "## PUEDE PROBAR CON LO SIGUIENTE: \n",
    "* Como obtener el titulo. \n",
    "* Como puedo ir a un articulo de otro capitulo.\n",
    "* Ver otras apis abiertas y obtener su información.\n",
    "* Para obtener la constitución completa: https://c80.cl/wp-json/constitucion1980/v1/constitucion\n",
    "* Para obtener un capítulo completo: https://c80.cl/wp-json/constitucion1980/v1/capitulo/1\n"
   ]
  },
  {
   "cell_type": "code",
   "execution_count": null,
   "metadata": {},
   "outputs": [],
   "source": []
  }
 ],
 "metadata": {
  "kernelspec": {
   "display_name": "Python 3",
   "language": "python",
   "name": "python3"
  },
  "language_info": {
   "codemirror_mode": {
    "name": "ipython",
    "version": 3
   },
   "file_extension": ".py",
   "mimetype": "text/x-python",
   "name": "python",
   "nbconvert_exporter": "python",
   "pygments_lexer": "ipython3",
   "version": "3.7.3"
  }
 },
 "nbformat": 4,
 "nbformat_minor": 2
}
